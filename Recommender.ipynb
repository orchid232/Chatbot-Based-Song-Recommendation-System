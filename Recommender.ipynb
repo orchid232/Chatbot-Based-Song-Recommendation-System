{
 "cells": [
  {
   "cell_type": "markdown",
   "metadata": {
    "id": "VVnMjExcbYPo"
   },
   "source": [
    "<table align=\"center\" width=100%>\n",
    "    <tr>\n",
    "        <td width=\"15%\">\n",
    "            <img src=\"main pic.jpeg\">\n",
    "        </td>\n",
    "        <td>\n",
    "            <div align=\"center\">\n",
    "                <font color=\"#21618C\" size=6px>\n",
    "                  <b> Team 5 <br> Chatbot Based Song Recommendation System   </b>\n",
    "                </font>\n",
    "            </div>\n",
    "        </td>\n",
    "    </tr>\n",
    "</table>"
   ]
  },
  {
   "cell_type": "markdown",
   "metadata": {
    "id": "DS_hDp4ZbYP2"
   },
   "source": [
    "## Table of Contents\n",
    "\n",
    "1. **[Problem Statement](#problem)**\n",
    "\n",
    "2. **[Importing the Libraries](#import_lib)**\n",
    "\n",
    "3. **[Reading the datasets](#read_data)**\n",
    "\n",
    "4. **[Data Preprocessing](#data_prep)**\n",
    "\n",
    "    - 4.1 - [Artist Dataset](#art_data)\n",
    "        - 4.1.1 - [Data Dictionary of Artist Dataset](#dict_art)\n",
    "        - 4.1.2 - [Exploratory Data Analysis](#eda_art)\n",
    "            - 4.1.2.1 - [Data Dimensions, Data Types, Missing Values, Summary Statistics](#dd_art)\n",
    "              \n",
    "    - 4.2 - [Tags Dataset](#tag_data)\n",
    "        - 4.2.1 - [Data Dictionary of Tag Dataset](#dict_tag)\n",
    "        - 4.2.2 - [Exploratory Data Analysis](#eda_tag)\n",
    "             - 4.2.2.1 - [Data Dimensions, Data Types, Missing Values, Summary Statistics](#dd_tag)\n",
    "              \n",
    "    - 4.3 - [User-Artists Dataset](#ua_data)\n",
    "        - 4.3.1 - [Data Dictionary of Artist Dataset](#dict_ua)\n",
    "        - 4.3.2 - [Exploratory Data Analysis](#eda_ua)\n",
    "             - 4.3.2.1 - [Data Dimensions, Data Types, Missing Values, Summary Statistics](#dd_ua)\n",
    "              \n",
    "     - 4.4 - [User taggedartists Dataset](#ut_data)\n",
    "        - 4.4.1 - [Data Dictionary of Artist Dataset](#dict_ut)\n",
    "        - 4.4.2 - [Exploratory Data Analysis](#eda_ut)\n",
    "             - 4.4.2.1 - [Data Dimensions, Data Types, Missing Values, Summary Statistics](#dd_ut)\n",
    "              \n",
    "5. **[Correlation](#corr)**\n",
    "\n",
    "6. **[Recommendation System](#rec)**\n",
    "\n",
    "    - 6.1 - [Popularity Recommendation System](#pop)\n",
    "        - 6.1.1 - [Top artists based on number of times the their song was played](#not)\n",
    "        - 6.1.2 - [Top artists based on the number of users](#nou)\n",
    "        \n",
    "    - 6.2 - [Mood-Text Classifier](#mt)\n",
    "        - 6.2.1 - [Importing the required Libraries and text file for mood-text classifier](#import_lib1)\n",
    "        - 6.2.2 - [Train-Test Split of the data](#tt)\n",
    "        \n",
    "    - 6.3 - [Collabrative Filtering Recommendation System](#collab)\n",
    "        - 6.3.1 - [User-Used Based Collabrative Filtering Recommendation System](#uu)\n",
    "        - 6.3.2 - [Item-Item based Collabrative Filtering Recommendation System](#ii)\n",
    "        \n",
    "    - 6.4 - [Mood-Based Recommendation System](#mood)\n",
    "        \n",
    "    - 6.5 - [Content Based Recommendation System](#cont)\n",
    "     \n",
    "    - 6.6 - [Hybrid Recommendation System.](#hyb)\n",
    "        - 6.6.1 - [Focus-Based Hybrid Recommendation system](#foc)\n",
    "    \n"
   ]
  },
  {
   "cell_type": "markdown",
   "metadata": {
    "id": "OTSlTX5LbYP5"
   },
   "source": [
    "<table align=\"left\">\n",
    "    <tr>\n",
    "        <td width=\"20%\">\n",
    "            <img src=\"head.jpeg\">\n",
    "        </td>\n",
    "        <td>\n",
    "            <div align=\"center\", style=\"font-size:250%\">\n",
    "                <font color=\"#21618C\">\n",
    "                    <b>Problem Statement.<br></b>\n",
    "                </font>\n",
    "            </div>\n",
    "        </td>\n",
    "    </tr>\n",
    "</table><a id='problem'></a>"
   ]
  },
  {
   "cell_type": "markdown",
   "metadata": {
    "id": "iMESsOmvbYP6"
   },
   "source": [
    "\n",
    "In today’s era internet is expanding rapidly and as a result, the data, as well as other importation which we want to show to a particular user, becomes difficult for the techs to recommend to their users. So here the concept of Recommendation Systems comes into picture . \n",
    "\n",
    "\n",
    "**Our GOAL**  is to predict which songs that a user will listen to and make a recommendation to each user depending on the popularity,content, the mood, behaviour and hybrid of all these.\n"
   ]
  },
  {
   "cell_type": "markdown",
   "metadata": {
    "id": "avqVEXNtbYP-"
   },
   "source": [
    "<table align=\"left\">\n",
    "    <tr>\n",
    "        <td width=\"15%\">\n",
    "            <img src=\"smallicon.png\">\n",
    "        </td>\n",
    "        <td>\n",
    "            <div align=\"center\", style=\"font-size:190%\">\n",
    "                <font color=\"#21618C\">\n",
    "                    <b>Importing the Libraries.<br></b>\n",
    "                </font>\n",
    "            </div>\n",
    "        </td>\n",
    "    </tr>\n",
    "</table><a id='import_lib'></a>"
   ]
  },
  {
   "cell_type": "code",
   "execution_count": 1,
   "metadata": {
    "id": "oIZIUnsvMj1F"
   },
   "outputs": [],
   "source": [
    "from pandas import Series, DataFrame\n",
    "import pandas as pd\n",
    "import numpy as np\n",
    "import codecs\n",
    "import matplotlib.pyplot as plt\n",
    "import seaborn as sns\n",
    "from sklearn.preprocessing import StandardScaler ,MinMaxScaler\n",
    "from sklearn.metrics.pairwise import cosine_similarity, linear_kernel\n",
    "from sklearn.feature_extraction.text import TfidfVectorizer, CountVectorizer\n",
    "from scipy import sparse\n",
    "\n",
    "from surprise import Dataset, Reader\n",
    "import heapq\n",
    "from surprise.model_selection import train_test_split\n",
    "from surprise import KNNWithMeans,SVDpp\n",
    "from surprise import accuracy\n",
    "import surprise"
   ]
  },
  {
   "cell_type": "markdown",
   "metadata": {
    "id": "A0Ukw01H-7TR"
   },
   "source": [
    "<table align=\"left\">\n",
    "    <tr>\n",
    "        <td width=\"20%\">\n",
    "            <img src=\"head.jpeg\">\n",
    "        </td>\n",
    "        <td>\n",
    "            <div align=\"center\", style=\"font-size:300%\">\n",
    "                <font color=\"#21618C\">\n",
    "                    <b>Data Preprocessing<br></b>\n",
    "                </font>\n",
    "            </div>\n",
    "        </td>\n",
    "    </tr>\n",
    "</table><a id='data_prep'></a>"
   ]
  },
  {
   "cell_type": "markdown",
   "metadata": {
    "id": "ysMk4B6RbYQE"
   },
   "source": [
    "\n",
    "<table align=\"left\">\n",
    "    <tr>\n",
    "        <td width=\"15%\">\n",
    "            <img src=\"smallicon.png\">\n",
    "        </td>\n",
    "        <td>\n",
    "            <div align=\"center\", style=\"font-size:190%\">\n",
    "                <font color=\"#21618C\">\n",
    "                    <b>Reading the datasets<br></b>\n",
    "                </font>\n",
    "            </div>\n",
    "        </td>\n",
    "    </tr>\n",
    "</table><a id='read_data'></a>"
   ]
  },
  {
   "cell_type": "markdown",
   "metadata": {
    "id": "yM9MD8EvBRcS"
   },
   "source": [
    "## Artists Dataset <a id='art_data'></a>"
   ]
  },
  {
   "cell_type": "code",
   "execution_count": 2,
   "metadata": {
    "colab": {
     "base_uri": "https://localhost:8080/",
     "height": 204
    },
    "id": "cUIFGU9BRcLs",
    "outputId": "f4d15a5e-0941-4ed4-ff0f-437430f6d8d6"
   },
   "outputs": [
    {
     "data": {
      "text/html": [
       "<div>\n",
       "<style scoped>\n",
       "    .dataframe tbody tr th:only-of-type {\n",
       "        vertical-align: middle;\n",
       "    }\n",
       "\n",
       "    .dataframe tbody tr th {\n",
       "        vertical-align: top;\n",
       "    }\n",
       "\n",
       "    .dataframe thead th {\n",
       "        text-align: right;\n",
       "    }\n",
       "</style>\n",
       "<table border=\"1\" class=\"dataframe\">\n",
       "  <thead>\n",
       "    <tr style=\"text-align: right;\">\n",
       "      <th></th>\n",
       "      <th>id</th>\n",
       "      <th>name</th>\n",
       "      <th>url</th>\n",
       "      <th>pictureURL</th>\n",
       "    </tr>\n",
       "  </thead>\n",
       "  <tbody>\n",
       "    <tr>\n",
       "      <th>0</th>\n",
       "      <td>1</td>\n",
       "      <td>MALICE MIZER</td>\n",
       "      <td>http://www.last.fm/music/MALICE+MIZER</td>\n",
       "      <td>http://userserve-ak.last.fm/serve/252/10808.jpg</td>\n",
       "    </tr>\n",
       "    <tr>\n",
       "      <th>1</th>\n",
       "      <td>2</td>\n",
       "      <td>Diary of Dreams</td>\n",
       "      <td>http://www.last.fm/music/Diary+of+Dreams</td>\n",
       "      <td>http://userserve-ak.last.fm/serve/252/3052066.jpg</td>\n",
       "    </tr>\n",
       "    <tr>\n",
       "      <th>2</th>\n",
       "      <td>3</td>\n",
       "      <td>Carpathian Forest</td>\n",
       "      <td>http://www.last.fm/music/Carpathian+Forest</td>\n",
       "      <td>http://userserve-ak.last.fm/serve/252/40222717...</td>\n",
       "    </tr>\n",
       "    <tr>\n",
       "      <th>3</th>\n",
       "      <td>4</td>\n",
       "      <td>Moi dix Mois</td>\n",
       "      <td>http://www.last.fm/music/Moi+dix+Mois</td>\n",
       "      <td>http://userserve-ak.last.fm/serve/252/54697835...</td>\n",
       "    </tr>\n",
       "    <tr>\n",
       "      <th>4</th>\n",
       "      <td>5</td>\n",
       "      <td>Bella Morte</td>\n",
       "      <td>http://www.last.fm/music/Bella+Morte</td>\n",
       "      <td>http://userserve-ak.last.fm/serve/252/14789013...</td>\n",
       "    </tr>\n",
       "  </tbody>\n",
       "</table>\n",
       "</div>"
      ],
      "text/plain": [
       "   id               name                                         url  \\\n",
       "0   1       MALICE MIZER       http://www.last.fm/music/MALICE+MIZER   \n",
       "1   2    Diary of Dreams    http://www.last.fm/music/Diary+of+Dreams   \n",
       "2   3  Carpathian Forest  http://www.last.fm/music/Carpathian+Forest   \n",
       "3   4       Moi dix Mois       http://www.last.fm/music/Moi+dix+Mois   \n",
       "4   5        Bella Morte        http://www.last.fm/music/Bella+Morte   \n",
       "\n",
       "                                          pictureURL  \n",
       "0    http://userserve-ak.last.fm/serve/252/10808.jpg  \n",
       "1  http://userserve-ak.last.fm/serve/252/3052066.jpg  \n",
       "2  http://userserve-ak.last.fm/serve/252/40222717...  \n",
       "3  http://userserve-ak.last.fm/serve/252/54697835...  \n",
       "4  http://userserve-ak.last.fm/serve/252/14789013...  "
      ]
     },
     "execution_count": 2,
     "metadata": {},
     "output_type": "execute_result"
    }
   ],
   "source": [
    "artists = pd.read_csv('artists.dat',sep = '\\t')\n",
    "artists.head()"
   ]
  },
  {
   "cell_type": "code",
   "execution_count": 3,
   "metadata": {
    "colab": {
     "base_uri": "https://localhost:8080/",
     "height": 204
    },
    "id": "za8yHFrGVFMk",
    "outputId": "cf6058b9-7cfd-4afd-e694-6e223b3cabce"
   },
   "outputs": [
    {
     "data": {
      "text/html": [
       "<div>\n",
       "<style scoped>\n",
       "    .dataframe tbody tr th:only-of-type {\n",
       "        vertical-align: middle;\n",
       "    }\n",
       "\n",
       "    .dataframe tbody tr th {\n",
       "        vertical-align: top;\n",
       "    }\n",
       "\n",
       "    .dataframe thead th {\n",
       "        text-align: right;\n",
       "    }\n",
       "</style>\n",
       "<table border=\"1\" class=\"dataframe\">\n",
       "  <thead>\n",
       "    <tr style=\"text-align: right;\">\n",
       "      <th></th>\n",
       "      <th>id</th>\n",
       "      <th>name</th>\n",
       "    </tr>\n",
       "  </thead>\n",
       "  <tbody>\n",
       "    <tr>\n",
       "      <th>0</th>\n",
       "      <td>1</td>\n",
       "      <td>MALICE MIZER</td>\n",
       "    </tr>\n",
       "    <tr>\n",
       "      <th>1</th>\n",
       "      <td>2</td>\n",
       "      <td>Diary of Dreams</td>\n",
       "    </tr>\n",
       "    <tr>\n",
       "      <th>2</th>\n",
       "      <td>3</td>\n",
       "      <td>Carpathian Forest</td>\n",
       "    </tr>\n",
       "    <tr>\n",
       "      <th>3</th>\n",
       "      <td>4</td>\n",
       "      <td>Moi dix Mois</td>\n",
       "    </tr>\n",
       "    <tr>\n",
       "      <th>4</th>\n",
       "      <td>5</td>\n",
       "      <td>Bella Morte</td>\n",
       "    </tr>\n",
       "  </tbody>\n",
       "</table>\n",
       "</div>"
      ],
      "text/plain": [
       "   id               name\n",
       "0   1       MALICE MIZER\n",
       "1   2    Diary of Dreams\n",
       "2   3  Carpathian Forest\n",
       "3   4       Moi dix Mois\n",
       "4   5        Bella Morte"
      ]
     },
     "execution_count": 3,
     "metadata": {},
     "output_type": "execute_result"
    }
   ],
   "source": [
    "artists = artists[['id','name']]\n",
    "artists.head()"
   ]
  },
  {
   "cell_type": "code",
   "execution_count": 4,
   "metadata": {
    "colab": {
     "base_uri": "https://localhost:8080/",
     "height": 204
    },
    "id": "9Amdd0wFAMal",
    "outputId": "98359b6b-9f54-4a31-d018-ecf7e0721383"
   },
   "outputs": [
    {
     "data": {
      "text/html": [
       "<div>\n",
       "<style scoped>\n",
       "    .dataframe tbody tr th:only-of-type {\n",
       "        vertical-align: middle;\n",
       "    }\n",
       "\n",
       "    .dataframe tbody tr th {\n",
       "        vertical-align: top;\n",
       "    }\n",
       "\n",
       "    .dataframe thead th {\n",
       "        text-align: right;\n",
       "    }\n",
       "</style>\n",
       "<table border=\"1\" class=\"dataframe\">\n",
       "  <thead>\n",
       "    <tr style=\"text-align: right;\">\n",
       "      <th></th>\n",
       "      <th>artistID</th>\n",
       "      <th>name</th>\n",
       "    </tr>\n",
       "  </thead>\n",
       "  <tbody>\n",
       "    <tr>\n",
       "      <th>0</th>\n",
       "      <td>1</td>\n",
       "      <td>MALICE MIZER</td>\n",
       "    </tr>\n",
       "    <tr>\n",
       "      <th>1</th>\n",
       "      <td>2</td>\n",
       "      <td>Diary of Dreams</td>\n",
       "    </tr>\n",
       "    <tr>\n",
       "      <th>2</th>\n",
       "      <td>3</td>\n",
       "      <td>Carpathian Forest</td>\n",
       "    </tr>\n",
       "    <tr>\n",
       "      <th>3</th>\n",
       "      <td>4</td>\n",
       "      <td>Moi dix Mois</td>\n",
       "    </tr>\n",
       "    <tr>\n",
       "      <th>4</th>\n",
       "      <td>5</td>\n",
       "      <td>Bella Morte</td>\n",
       "    </tr>\n",
       "  </tbody>\n",
       "</table>\n",
       "</div>"
      ],
      "text/plain": [
       "   artistID               name\n",
       "0         1       MALICE MIZER\n",
       "1         2    Diary of Dreams\n",
       "2         3  Carpathian Forest\n",
       "3         4       Moi dix Mois\n",
       "4         5        Bella Morte"
      ]
     },
     "execution_count": 4,
     "metadata": {},
     "output_type": "execute_result"
    }
   ],
   "source": [
    "artists.rename(columns={'id': 'artistID'},\n",
    "          inplace=True, errors='raise')\n",
    "artists.head()"
   ]
  },
  {
   "cell_type": "markdown",
   "metadata": {
    "id": "GHU-PUdVbYQO"
   },
   "source": [
    "<table align=\"left\">\n",
    "    <tr>\n",
    "       <td>\n",
    "            <div align=\"center\", style=\"font-size:150%\">\n",
    "                <font color=\"#21618C\">\n",
    "                    <b>Data Dictionary of Artist Dataset<br></b>\n",
    "                </font>\n",
    "            </div>\n",
    "        </td>\n",
    "    </tr>\n",
    "</table><a id='dict_art'></a>\n",
    "\n",
    "\n",
    "\n",
    "\n"
   ]
  },
  {
   "cell_type": "markdown",
   "metadata": {
    "id": "Y3eA4UeYbYQP"
   },
   "source": [
    "1. **artistID**  Represents the unique id of the artist\n",
    "2. **name**      Represents the name of the artist"
   ]
  },
  {
   "cell_type": "markdown",
   "metadata": {
    "id": "5C-d3PTLbYQQ"
   },
   "source": [
    "\n",
    "<table align=\"left\">\n",
    "    <tr>\n",
    "        <td width=\"15%\">\n",
    "            <img src=\"smallicon.png\">\n",
    "        </td>\n",
    "        <td>\n",
    "            <div align=\"center\", style=\"font-size:190%\">\n",
    "                <font color=\"#21618C\">\n",
    "                    <b>Exploratory Data Analysis <br></b>\n",
    "                </font>\n",
    "            </div>\n",
    "        </td>\n",
    "    </tr>\n",
    "</table><a id='eda_art'></a>"
   ]
  },
  {
   "cell_type": "markdown",
   "metadata": {
    "id": "nFjPX0ngbYQR"
   },
   "source": [
    "<table align=\"left\">\n",
    "    <tr>\n",
    "       <td>\n",
    "            <div align=\"center\", style=\"font-size:150%\">\n",
    "                <font color=\"#21618C\">\n",
    "                    <b>Data Dimensions, Data Types, Missing Values, Summary Statistics  for Artists Dataset<br></b>\n",
    "                </font>\n",
    "            </div>\n",
    "        </td>\n",
    "    </tr>\n",
    "</table><a id='dd_art'></a>\n",
    "\n"
   ]
  },
  {
   "cell_type": "code",
   "execution_count": 5,
   "metadata": {
    "colab": {
     "base_uri": "https://localhost:8080/"
    },
    "id": "BSZxor20B3-0",
    "outputId": "3ff6c4cf-c143-41d8-ca49-970e444bc88f"
   },
   "outputs": [
    {
     "data": {
      "text/plain": [
       "(17632, 2)"
      ]
     },
     "execution_count": 5,
     "metadata": {},
     "output_type": "execute_result"
    }
   ],
   "source": [
    "artists.shape"
   ]
  },
  {
   "cell_type": "markdown",
   "metadata": {
    "id": "Cd7uOl7_bYQT"
   },
   "source": [
    "##### There are 17632 artists in the artist dataset "
   ]
  },
  {
   "cell_type": "code",
   "execution_count": 6,
   "metadata": {
    "colab": {
     "base_uri": "https://localhost:8080/"
    },
    "id": "ihlHwMVL_eos",
    "outputId": "565a6cfc-b370-422b-b3fc-2f9c94aa53e4"
   },
   "outputs": [
    {
     "data": {
      "text/plain": [
       "artistID     int64\n",
       "name        object\n",
       "dtype: object"
      ]
     },
     "execution_count": 6,
     "metadata": {},
     "output_type": "execute_result"
    }
   ],
   "source": [
    "artists.dtypes"
   ]
  },
  {
   "cell_type": "code",
   "execution_count": 7,
   "metadata": {
    "colab": {
     "base_uri": "https://localhost:8080/"
    },
    "id": "LQr7C7SAA56i",
    "outputId": "a7e9e0ce-e58e-417f-b7a5-6f1ddb537216"
   },
   "outputs": [
    {
     "data": {
      "text/plain": [
       "artistID    0\n",
       "name        0\n",
       "dtype: int64"
      ]
     },
     "execution_count": 7,
     "metadata": {},
     "output_type": "execute_result"
    }
   ],
   "source": [
    "artists.isnull().sum()"
   ]
  },
  {
   "cell_type": "code",
   "execution_count": 8,
   "metadata": {
    "colab": {
     "base_uri": "https://localhost:8080/",
     "height": 173
    },
    "id": "C27o9ZOsMudJ",
    "outputId": "cecd3371-93c9-42a2-a300-5ca94a768c8b"
   },
   "outputs": [
    {
     "data": {
      "text/html": [
       "<div>\n",
       "<style scoped>\n",
       "    .dataframe tbody tr th:only-of-type {\n",
       "        vertical-align: middle;\n",
       "    }\n",
       "\n",
       "    .dataframe tbody tr th {\n",
       "        vertical-align: top;\n",
       "    }\n",
       "\n",
       "    .dataframe thead th {\n",
       "        text-align: right;\n",
       "    }\n",
       "</style>\n",
       "<table border=\"1\" class=\"dataframe\">\n",
       "  <thead>\n",
       "    <tr style=\"text-align: right;\">\n",
       "      <th></th>\n",
       "      <th>name</th>\n",
       "    </tr>\n",
       "  </thead>\n",
       "  <tbody>\n",
       "    <tr>\n",
       "      <th>count</th>\n",
       "      <td>17632</td>\n",
       "    </tr>\n",
       "    <tr>\n",
       "      <th>unique</th>\n",
       "      <td>17632</td>\n",
       "    </tr>\n",
       "    <tr>\n",
       "      <th>top</th>\n",
       "      <td>The National Bank</td>\n",
       "    </tr>\n",
       "    <tr>\n",
       "      <th>freq</th>\n",
       "      <td>1</td>\n",
       "    </tr>\n",
       "  </tbody>\n",
       "</table>\n",
       "</div>"
      ],
      "text/plain": [
       "                     name\n",
       "count               17632\n",
       "unique              17632\n",
       "top     The National Bank\n",
       "freq                    1"
      ]
     },
     "execution_count": 8,
     "metadata": {},
     "output_type": "execute_result"
    }
   ],
   "source": [
    "artists.describe(include = np.object)"
   ]
  },
  {
   "cell_type": "markdown",
   "metadata": {
    "id": "5r-EBYKeBgY_"
   },
   "source": [
    "## Tags Dataset <a id='tag_data'></a>"
   ]
  },
  {
   "cell_type": "code",
   "execution_count": 9,
   "metadata": {
    "colab": {
     "base_uri": "https://localhost:8080/",
     "height": 204
    },
    "id": "PSCU_hwvRusr",
    "outputId": "bc0962e2-a4eb-451d-c3c9-0bb1fd3d3f26"
   },
   "outputs": [
    {
     "data": {
      "text/html": [
       "<div>\n",
       "<style scoped>\n",
       "    .dataframe tbody tr th:only-of-type {\n",
       "        vertical-align: middle;\n",
       "    }\n",
       "\n",
       "    .dataframe tbody tr th {\n",
       "        vertical-align: top;\n",
       "    }\n",
       "\n",
       "    .dataframe thead th {\n",
       "        text-align: right;\n",
       "    }\n",
       "</style>\n",
       "<table border=\"1\" class=\"dataframe\">\n",
       "  <thead>\n",
       "    <tr style=\"text-align: right;\">\n",
       "      <th></th>\n",
       "      <th>tagID</th>\n",
       "      <th>tagValue</th>\n",
       "    </tr>\n",
       "  </thead>\n",
       "  <tbody>\n",
       "    <tr>\n",
       "      <th>0</th>\n",
       "      <td>1</td>\n",
       "      <td>metal</td>\n",
       "    </tr>\n",
       "    <tr>\n",
       "      <th>1</th>\n",
       "      <td>2</td>\n",
       "      <td>alternative metal</td>\n",
       "    </tr>\n",
       "    <tr>\n",
       "      <th>2</th>\n",
       "      <td>3</td>\n",
       "      <td>goth rock</td>\n",
       "    </tr>\n",
       "    <tr>\n",
       "      <th>3</th>\n",
       "      <td>4</td>\n",
       "      <td>black metal</td>\n",
       "    </tr>\n",
       "    <tr>\n",
       "      <th>4</th>\n",
       "      <td>5</td>\n",
       "      <td>death metal</td>\n",
       "    </tr>\n",
       "  </tbody>\n",
       "</table>\n",
       "</div>"
      ],
      "text/plain": [
       "   tagID           tagValue\n",
       "0      1              metal\n",
       "1      2  alternative metal\n",
       "2      3          goth rock\n",
       "3      4        black metal\n",
       "4      5        death metal"
      ]
     },
     "execution_count": 9,
     "metadata": {},
     "output_type": "execute_result"
    }
   ],
   "source": [
    "tags = pd.read_csv('tags.dat', sep ='\\t',encoding = 'latin-1')\n",
    "tags.head()"
   ]
  },
  {
   "cell_type": "markdown",
   "metadata": {
    "id": "n6y4mW1gbYQX"
   },
   "source": [
    " <table align=\"left\">\n",
    "    <tr>\n",
    "       <td>\n",
    "            <div align=\"center\", style=\"font-size:150%\">\n",
    "                <font color=\"#21618C\">\n",
    "                    <b>Data Dictionary for Tags Dataset<br></b>\n",
    "                </font>\n",
    "            </div>\n",
    "        </td>\n",
    "    </tr>\n",
    "</table><a id='dict_tag'></a>\n",
    "\n"
   ]
  },
  {
   "cell_type": "markdown",
   "metadata": {
    "id": "Q0ZLaqbgbYQZ"
   },
   "source": [
    "1. **tagID**  Represents the unique id of the genre\n",
    "2. **tagValue**      Represents the name of the genre"
   ]
  },
  {
   "cell_type": "markdown",
   "metadata": {
    "id": "TqUqebRKbYQZ"
   },
   "source": [
    "\n",
    "<table align=\"left\">\n",
    "    <tr>\n",
    "        <td width=\"15%\">\n",
    "            <img src=\"smallicon.png\">\n",
    "        </td>\n",
    "        <td>\n",
    "            <div align=\"center\", style=\"font-size:190%\">\n",
    "                <font color=\"#21618C\">\n",
    "                    <b>Exploratory Data Analysis <br></b>\n",
    "                </font>\n",
    "            </div>\n",
    "        </td>\n",
    "    </tr>\n",
    "</table> <a id='eda_tag'></a>"
   ]
  },
  {
   "cell_type": "markdown",
   "metadata": {
    "id": "K5bOdN3zbYQa"
   },
   "source": [
    "<table align=\"left\">\n",
    "    <tr>\n",
    "       <td>\n",
    "            <div align=\"center\", style=\"font-size:150%\">\n",
    "                <font color=\"#21618C\">\n",
    "                    <b>Data Dimensions, Data Types, Missing Values, Summary Statistics  for Tags Dataset<br></b>\n",
    "                </font>\n",
    "            </div>\n",
    "        </td>\n",
    "    </tr>\n",
    "</table><a id='dd_tag'></a>\n"
   ]
  },
  {
   "cell_type": "code",
   "execution_count": 10,
   "metadata": {
    "colab": {
     "base_uri": "https://localhost:8080/"
    },
    "id": "yPGycj3CB2V2",
    "outputId": "8bec0a36-7172-4cdc-9ef4-0e2d3a49b10a"
   },
   "outputs": [
    {
     "data": {
      "text/plain": [
       "(11946, 2)"
      ]
     },
     "execution_count": 10,
     "metadata": {},
     "output_type": "execute_result"
    }
   ],
   "source": [
    "tags.shape"
   ]
  },
  {
   "cell_type": "markdown",
   "metadata": {
    "id": "GP6ris5BbYQf"
   },
   "source": [
    "##### There are 11946 genres in the tags dataset "
   ]
  },
  {
   "cell_type": "code",
   "execution_count": 11,
   "metadata": {
    "colab": {
     "base_uri": "https://localhost:8080/"
    },
    "id": "mMugddVAAue6",
    "outputId": "ccd829f0-9e87-4026-dc0c-90a05a6c9afc"
   },
   "outputs": [
    {
     "data": {
      "text/plain": [
       "tagID        int64\n",
       "tagValue    object\n",
       "dtype: object"
      ]
     },
     "execution_count": 11,
     "metadata": {},
     "output_type": "execute_result"
    }
   ],
   "source": [
    "tags.dtypes"
   ]
  },
  {
   "cell_type": "code",
   "execution_count": 12,
   "metadata": {
    "colab": {
     "base_uri": "https://localhost:8080/"
    },
    "id": "E_10PmHyBCrK",
    "outputId": "254c5735-b6a0-4dbb-e509-840fca7e4be2"
   },
   "outputs": [
    {
     "data": {
      "text/plain": [
       "tagID       0\n",
       "tagValue    0\n",
       "dtype: int64"
      ]
     },
     "execution_count": 12,
     "metadata": {},
     "output_type": "execute_result"
    }
   ],
   "source": [
    "tags.isnull().sum()"
   ]
  },
  {
   "cell_type": "code",
   "execution_count": 13,
   "metadata": {
    "colab": {
     "base_uri": "https://localhost:8080/",
     "height": 173
    },
    "id": "OibzHVwKNVtE",
    "outputId": "fc0a4be5-fd1d-4ecb-be3d-3f8720bffd64"
   },
   "outputs": [
    {
     "data": {
      "text/html": [
       "<div>\n",
       "<style scoped>\n",
       "    .dataframe tbody tr th:only-of-type {\n",
       "        vertical-align: middle;\n",
       "    }\n",
       "\n",
       "    .dataframe tbody tr th {\n",
       "        vertical-align: top;\n",
       "    }\n",
       "\n",
       "    .dataframe thead th {\n",
       "        text-align: right;\n",
       "    }\n",
       "</style>\n",
       "<table border=\"1\" class=\"dataframe\">\n",
       "  <thead>\n",
       "    <tr style=\"text-align: right;\">\n",
       "      <th></th>\n",
       "      <th>tagValue</th>\n",
       "    </tr>\n",
       "  </thead>\n",
       "  <tbody>\n",
       "    <tr>\n",
       "      <th>count</th>\n",
       "      <td>11946</td>\n",
       "    </tr>\n",
       "    <tr>\n",
       "      <th>unique</th>\n",
       "      <td>11946</td>\n",
       "    </tr>\n",
       "    <tr>\n",
       "      <th>top</th>\n",
       "      <td>country: new zealand</td>\n",
       "    </tr>\n",
       "    <tr>\n",
       "      <th>freq</th>\n",
       "      <td>1</td>\n",
       "    </tr>\n",
       "  </tbody>\n",
       "</table>\n",
       "</div>"
      ],
      "text/plain": [
       "                    tagValue\n",
       "count                  11946\n",
       "unique                 11946\n",
       "top     country: new zealand\n",
       "freq                       1"
      ]
     },
     "execution_count": 13,
     "metadata": {},
     "output_type": "execute_result"
    }
   ],
   "source": [
    "tags.describe(include = np.object)"
   ]
  },
  {
   "cell_type": "markdown",
   "metadata": {
    "id": "m03Z8oRYCKEf"
   },
   "source": [
    "## User-Artists Dataset <a id='ua_data'></a>"
   ]
  },
  {
   "cell_type": "code",
   "execution_count": 14,
   "metadata": {
    "colab": {
     "base_uri": "https://localhost:8080/",
     "height": 204
    },
    "id": "Mk4LiK4BSUBt",
    "outputId": "a47c2393-f32a-48a6-e78c-28425c4683d5"
   },
   "outputs": [
    {
     "data": {
      "text/html": [
       "<div>\n",
       "<style scoped>\n",
       "    .dataframe tbody tr th:only-of-type {\n",
       "        vertical-align: middle;\n",
       "    }\n",
       "\n",
       "    .dataframe tbody tr th {\n",
       "        vertical-align: top;\n",
       "    }\n",
       "\n",
       "    .dataframe thead th {\n",
       "        text-align: right;\n",
       "    }\n",
       "</style>\n",
       "<table border=\"1\" class=\"dataframe\">\n",
       "  <thead>\n",
       "    <tr style=\"text-align: right;\">\n",
       "      <th></th>\n",
       "      <th>userID</th>\n",
       "      <th>artistID</th>\n",
       "      <th>weight</th>\n",
       "    </tr>\n",
       "  </thead>\n",
       "  <tbody>\n",
       "    <tr>\n",
       "      <th>0</th>\n",
       "      <td>2</td>\n",
       "      <td>51</td>\n",
       "      <td>13883</td>\n",
       "    </tr>\n",
       "    <tr>\n",
       "      <th>1</th>\n",
       "      <td>2</td>\n",
       "      <td>52</td>\n",
       "      <td>11690</td>\n",
       "    </tr>\n",
       "    <tr>\n",
       "      <th>2</th>\n",
       "      <td>2</td>\n",
       "      <td>53</td>\n",
       "      <td>11351</td>\n",
       "    </tr>\n",
       "    <tr>\n",
       "      <th>3</th>\n",
       "      <td>2</td>\n",
       "      <td>54</td>\n",
       "      <td>10300</td>\n",
       "    </tr>\n",
       "    <tr>\n",
       "      <th>4</th>\n",
       "      <td>2</td>\n",
       "      <td>55</td>\n",
       "      <td>8983</td>\n",
       "    </tr>\n",
       "  </tbody>\n",
       "</table>\n",
       "</div>"
      ],
      "text/plain": [
       "   userID  artistID  weight\n",
       "0       2        51   13883\n",
       "1       2        52   11690\n",
       "2       2        53   11351\n",
       "3       2        54   10300\n",
       "4       2        55    8983"
      ]
     },
     "execution_count": 14,
     "metadata": {},
     "output_type": "execute_result"
    }
   ],
   "source": [
    "user_artists = pd.read_csv('user_artists.dat',sep = '\\t')\n",
    "user_artists.head()"
   ]
  },
  {
   "cell_type": "markdown",
   "metadata": {
    "id": "qQUsFVbUbYQj"
   },
   "source": [
    "<table align=\"left\">\n",
    "    <tr>\n",
    "       <td>\n",
    "            <div align=\"center\", style=\"font-size:150%\">\n",
    "                <font color=\"#21618C\">\n",
    "                    <b>Data Dictionary for User-Artists Dataset <br></b>\n",
    "                </font>\n",
    "            </div>\n",
    "        </td>\n",
    "    </tr>\n",
    "</table><a id='dict_ua'></a>\n"
   ]
  },
  {
   "cell_type": "markdown",
   "metadata": {
    "id": "AyIPjeTqbYQj"
   },
   "source": [
    "1. **userID**  Represents the unique id of the user\n",
    "2. **artistID**      Represents the unique id of the artist\n",
    "3. **weight**      Represents the number of times the songs of the artist was played by the user "
   ]
  },
  {
   "cell_type": "markdown",
   "metadata": {
    "id": "KTh4l93GbYQk"
   },
   "source": [
    "\n",
    "<table align=\"left\">\n",
    "    <tr>\n",
    "        <td width=\"15%\">\n",
    "            <img src=\"smallicon.png\">\n",
    "        </td>\n",
    "        <td>\n",
    "            <div align=\"center\", style=\"font-size:190%\">\n",
    "                <font color=\"#21618C\">\n",
    "                    <b>Exploratory Data Analysis <br></b>\n",
    "                </font>\n",
    "            </div>\n",
    "        </td>\n",
    "    </tr>\n",
    "</table><a id='eda_ua'></a>"
   ]
  },
  {
   "cell_type": "markdown",
   "metadata": {
    "id": "6UBjm940bYQk"
   },
   "source": [
    "<table align=\"left\">\n",
    "    <tr>\n",
    "       <td>\n",
    "            <div align=\"center\", style=\"font-size:150%\">\n",
    "                <font color=\"#21618C\">\n",
    "                    <b>Data Dimensions, Data Types, Missing Values, Summary Statistics  for User-Artists Dataset<br></b>\n",
    "                </font>\n",
    "            </div>\n",
    "        </td>\n",
    "    </tr>\n",
    "</table><a id='dd_ua'></a>\n"
   ]
  },
  {
   "cell_type": "code",
   "execution_count": 15,
   "metadata": {
    "colab": {
     "base_uri": "https://localhost:8080/"
    },
    "id": "DiegTNhHCRY4",
    "outputId": "0641b794-7590-4e3f-9385-2cbabc1c4f15"
   },
   "outputs": [
    {
     "data": {
      "text/plain": [
       "(92834, 3)"
      ]
     },
     "execution_count": 15,
     "metadata": {},
     "output_type": "execute_result"
    }
   ],
   "source": [
    "user_artists.shape"
   ]
  },
  {
   "cell_type": "markdown",
   "metadata": {
    "id": "DrkMlguCbYQl"
   },
   "source": [
    "##### There are 92834 records in User-Artists Dataset"
   ]
  },
  {
   "cell_type": "code",
   "execution_count": 16,
   "metadata": {
    "colab": {
     "base_uri": "https://localhost:8080/"
    },
    "id": "o7DSd6pMXKdq",
    "outputId": "d44eff6a-1e4e-412c-b2b2-09bdabfc5a18"
   },
   "outputs": [
    {
     "data": {
      "text/plain": [
       "userID      int64\n",
       "artistID    int64\n",
       "weight      int64\n",
       "dtype: object"
      ]
     },
     "execution_count": 16,
     "metadata": {},
     "output_type": "execute_result"
    }
   ],
   "source": [
    "user_artists.dtypes"
   ]
  },
  {
   "cell_type": "code",
   "execution_count": 17,
   "metadata": {
    "colab": {
     "base_uri": "https://localhost:8080/"
    },
    "id": "jqsRArO8W-vK",
    "outputId": "ec5b2fed-b4f3-4eed-9fa1-e99007dea9a3"
   },
   "outputs": [
    {
     "data": {
      "text/plain": [
       "userID      0\n",
       "artistID    0\n",
       "weight      0\n",
       "dtype: int64"
      ]
     },
     "execution_count": 17,
     "metadata": {},
     "output_type": "execute_result"
    }
   ],
   "source": [
    "user_artists.isnull().sum()"
   ]
  },
  {
   "cell_type": "code",
   "execution_count": 18,
   "metadata": {
    "colab": {
     "base_uri": "https://localhost:8080/"
    },
    "id": "_H5iN69uCmZy",
    "outputId": "76a2d0e9-2531-4fb3-ce1a-d5bc4ec19e8c"
   },
   "outputs": [
    {
     "data": {
      "text/plain": [
       "(92834, 3)"
      ]
     },
     "execution_count": 18,
     "metadata": {},
     "output_type": "execute_result"
    }
   ],
   "source": [
    "user_artists = user_artists.drop_duplicates(keep = 'first')\n",
    "user_artists.shape"
   ]
  },
  {
   "cell_type": "code",
   "execution_count": 19,
   "metadata": {
    "colab": {
     "base_uri": "https://localhost:8080/"
    },
    "id": "hp0LmXYsB1wE",
    "outputId": "e3a07a0d-250e-47c3-a894-9fccc75de97f"
   },
   "outputs": [
    {
     "data": {
      "text/plain": [
       "count     92834.00000\n",
       "mean        745.24393\n",
       "std        3751.32208\n",
       "min           1.00000\n",
       "25%         107.00000\n",
       "50%         260.00000\n",
       "75%         614.00000\n",
       "max      352698.00000\n",
       "Name: weight, dtype: float64"
      ]
     },
     "execution_count": 19,
     "metadata": {},
     "output_type": "execute_result"
    }
   ],
   "source": [
    "user_artists['weight'].describe()"
   ]
  },
  {
   "cell_type": "markdown",
   "metadata": {
    "id": "nW2tAy9mDCtF"
   },
   "source": [
    "## User taggedartists Dataset<a id='ut_data'></a>"
   ]
  },
  {
   "cell_type": "code",
   "execution_count": 20,
   "metadata": {
    "colab": {
     "base_uri": "https://localhost:8080/",
     "height": 204
    },
    "id": "c1LU6WVyTjZG",
    "outputId": "ded4580f-c90d-4a75-dc26-fdf3b62c5ca6"
   },
   "outputs": [
    {
     "data": {
      "text/html": [
       "<div>\n",
       "<style scoped>\n",
       "    .dataframe tbody tr th:only-of-type {\n",
       "        vertical-align: middle;\n",
       "    }\n",
       "\n",
       "    .dataframe tbody tr th {\n",
       "        vertical-align: top;\n",
       "    }\n",
       "\n",
       "    .dataframe thead th {\n",
       "        text-align: right;\n",
       "    }\n",
       "</style>\n",
       "<table border=\"1\" class=\"dataframe\">\n",
       "  <thead>\n",
       "    <tr style=\"text-align: right;\">\n",
       "      <th></th>\n",
       "      <th>userID</th>\n",
       "      <th>artistID</th>\n",
       "      <th>tagID</th>\n",
       "      <th>day</th>\n",
       "      <th>month</th>\n",
       "      <th>year</th>\n",
       "    </tr>\n",
       "  </thead>\n",
       "  <tbody>\n",
       "    <tr>\n",
       "      <th>0</th>\n",
       "      <td>2</td>\n",
       "      <td>52</td>\n",
       "      <td>13</td>\n",
       "      <td>1</td>\n",
       "      <td>4</td>\n",
       "      <td>2009</td>\n",
       "    </tr>\n",
       "    <tr>\n",
       "      <th>1</th>\n",
       "      <td>2</td>\n",
       "      <td>52</td>\n",
       "      <td>15</td>\n",
       "      <td>1</td>\n",
       "      <td>4</td>\n",
       "      <td>2009</td>\n",
       "    </tr>\n",
       "    <tr>\n",
       "      <th>2</th>\n",
       "      <td>2</td>\n",
       "      <td>52</td>\n",
       "      <td>18</td>\n",
       "      <td>1</td>\n",
       "      <td>4</td>\n",
       "      <td>2009</td>\n",
       "    </tr>\n",
       "    <tr>\n",
       "      <th>3</th>\n",
       "      <td>2</td>\n",
       "      <td>52</td>\n",
       "      <td>21</td>\n",
       "      <td>1</td>\n",
       "      <td>4</td>\n",
       "      <td>2009</td>\n",
       "    </tr>\n",
       "    <tr>\n",
       "      <th>4</th>\n",
       "      <td>2</td>\n",
       "      <td>52</td>\n",
       "      <td>41</td>\n",
       "      <td>1</td>\n",
       "      <td>4</td>\n",
       "      <td>2009</td>\n",
       "    </tr>\n",
       "  </tbody>\n",
       "</table>\n",
       "</div>"
      ],
      "text/plain": [
       "   userID  artistID  tagID  day  month  year\n",
       "0       2        52     13    1      4  2009\n",
       "1       2        52     15    1      4  2009\n",
       "2       2        52     18    1      4  2009\n",
       "3       2        52     21    1      4  2009\n",
       "4       2        52     41    1      4  2009"
      ]
     },
     "execution_count": 20,
     "metadata": {},
     "output_type": "execute_result"
    }
   ],
   "source": [
    "user_tags = pd.read_csv('user_taggedartists.dat',sep = '\\t')\n",
    "user_tags.head()"
   ]
  },
  {
   "cell_type": "code",
   "execution_count": 21,
   "metadata": {
    "colab": {
     "base_uri": "https://localhost:8080/",
     "height": 204
    },
    "id": "nHWub2QdDP3c",
    "outputId": "e7f87a71-d715-4a60-d2e9-2ed02c71e5ce"
   },
   "outputs": [
    {
     "data": {
      "text/html": [
       "<div>\n",
       "<style scoped>\n",
       "    .dataframe tbody tr th:only-of-type {\n",
       "        vertical-align: middle;\n",
       "    }\n",
       "\n",
       "    .dataframe tbody tr th {\n",
       "        vertical-align: top;\n",
       "    }\n",
       "\n",
       "    .dataframe thead th {\n",
       "        text-align: right;\n",
       "    }\n",
       "</style>\n",
       "<table border=\"1\" class=\"dataframe\">\n",
       "  <thead>\n",
       "    <tr style=\"text-align: right;\">\n",
       "      <th></th>\n",
       "      <th>userID</th>\n",
       "      <th>artistID</th>\n",
       "      <th>tagID</th>\n",
       "      <th>year</th>\n",
       "    </tr>\n",
       "  </thead>\n",
       "  <tbody>\n",
       "    <tr>\n",
       "      <th>0</th>\n",
       "      <td>2</td>\n",
       "      <td>52</td>\n",
       "      <td>13</td>\n",
       "      <td>2009</td>\n",
       "    </tr>\n",
       "    <tr>\n",
       "      <th>1</th>\n",
       "      <td>2</td>\n",
       "      <td>52</td>\n",
       "      <td>15</td>\n",
       "      <td>2009</td>\n",
       "    </tr>\n",
       "    <tr>\n",
       "      <th>2</th>\n",
       "      <td>2</td>\n",
       "      <td>52</td>\n",
       "      <td>18</td>\n",
       "      <td>2009</td>\n",
       "    </tr>\n",
       "    <tr>\n",
       "      <th>3</th>\n",
       "      <td>2</td>\n",
       "      <td>52</td>\n",
       "      <td>21</td>\n",
       "      <td>2009</td>\n",
       "    </tr>\n",
       "    <tr>\n",
       "      <th>4</th>\n",
       "      <td>2</td>\n",
       "      <td>52</td>\n",
       "      <td>41</td>\n",
       "      <td>2009</td>\n",
       "    </tr>\n",
       "  </tbody>\n",
       "</table>\n",
       "</div>"
      ],
      "text/plain": [
       "   userID  artistID  tagID  year\n",
       "0       2        52     13  2009\n",
       "1       2        52     15  2009\n",
       "2       2        52     18  2009\n",
       "3       2        52     21  2009\n",
       "4       2        52     41  2009"
      ]
     },
     "execution_count": 21,
     "metadata": {},
     "output_type": "execute_result"
    }
   ],
   "source": [
    "user_tags = user_tags.drop(['day','month'],axis =1)\n",
    "user_tags.head()"
   ]
  },
  {
   "cell_type": "markdown",
   "metadata": {
    "id": "6mx6JglNbYQz"
   },
   "source": [
    "<table align=\"left\">\n",
    "    <tr>\n",
    "       <td>\n",
    "            <div align=\"center\", style=\"font-size:150%\">\n",
    "                <font color=\"#21618C\">\n",
    "                    <b>Data Dictionary for User taggedartists Dataset <br></b>\n",
    "                </font>\n",
    "            </div>\n",
    "        </td>\n",
    "    </tr>\n",
    "</table><a id='dict_ut'></a>\n"
   ]
  },
  {
   "cell_type": "markdown",
   "metadata": {
    "id": "-U85JfjgbYQ0"
   },
   "source": [
    "1. **userID**  Represents the unique id of the user\n",
    "2. **artistID**      Represents the unique id of the artist\n",
    "1. **tagID**  Represents the unique id of the genre\n",
    "2. **year**      Represents the year the song was played "
   ]
  },
  {
   "cell_type": "markdown",
   "metadata": {
    "id": "tn8QgvWrbYQ1"
   },
   "source": [
    "\n",
    "<table align=\"left\">\n",
    "    <tr>\n",
    "        <td width=\"15%\">\n",
    "            <img src=\"smallicon.png\">\n",
    "        </td>\n",
    "        <td>\n",
    "            <div align=\"center\", style=\"font-size:190%\">\n",
    "                <font color=\"#21618C\">\n",
    "                    <b>Exploratory Data Analysis <br></b>\n",
    "                </font>\n",
    "            </div>\n",
    "        </td>\n",
    "    </tr>\n",
    "</table><a id='eda_ut'></a>"
   ]
  },
  {
   "cell_type": "markdown",
   "metadata": {
    "id": "fOoZtL8AbYQ1"
   },
   "source": [
    "<table align=\"left\">\n",
    "    <tr>\n",
    "       <td>\n",
    "            <div align=\"center\", style=\"font-size:145%\">\n",
    "                <font color=\"#21618C\">\n",
    "                    <b>Data Dimensions, Data Types, Missing Values, Summary Statistics  for User taggedartists Dataset<br></b>\n",
    "                </font>\n",
    "            </div>\n",
    "        </td>\n",
    "    </tr>\n",
    "</table><a id='dd_ut'></a>\n"
   ]
  },
  {
   "cell_type": "code",
   "execution_count": 22,
   "metadata": {
    "colab": {
     "base_uri": "https://localhost:8080/"
    },
    "id": "FTYEY1vcDlJO",
    "outputId": "f0599034-f3cf-4488-9699-7c640e649e9c"
   },
   "outputs": [
    {
     "data": {
      "text/plain": [
       "(186479, 4)"
      ]
     },
     "execution_count": 22,
     "metadata": {},
     "output_type": "execute_result"
    }
   ],
   "source": [
    "user_tags.shape"
   ]
  },
  {
   "cell_type": "markdown",
   "metadata": {
    "id": "pbvQtOdTbYQ2"
   },
   "source": [
    "##### There are 186479 records in User taggedartists Dataset"
   ]
  },
  {
   "cell_type": "code",
   "execution_count": 23,
   "metadata": {
    "colab": {
     "base_uri": "https://localhost:8080/"
    },
    "id": "yjWHp8pODod_",
    "outputId": "c1d5901d-00e2-4036-f3d3-7d9e2552e70e"
   },
   "outputs": [
    {
     "data": {
      "text/plain": [
       "userID      int64\n",
       "artistID    int64\n",
       "tagID       int64\n",
       "year        int64\n",
       "dtype: object"
      ]
     },
     "execution_count": 23,
     "metadata": {},
     "output_type": "execute_result"
    }
   ],
   "source": [
    "user_tags.dtypes"
   ]
  },
  {
   "cell_type": "code",
   "execution_count": 24,
   "metadata": {
    "colab": {
     "base_uri": "https://localhost:8080/"
    },
    "id": "eqHUVbcCDsqy",
    "outputId": "e2606e13-f288-4bad-a06c-db95af861070"
   },
   "outputs": [
    {
     "data": {
      "text/plain": [
       "userID      0\n",
       "artistID    0\n",
       "tagID       0\n",
       "year        0\n",
       "dtype: int64"
      ]
     },
     "execution_count": 24,
     "metadata": {},
     "output_type": "execute_result"
    }
   ],
   "source": [
    "user_tags.isnull().sum()"
   ]
  },
  {
   "cell_type": "code",
   "execution_count": 25,
   "metadata": {
    "colab": {
     "base_uri": "https://localhost:8080/"
    },
    "id": "3AhsP6otEXfB",
    "outputId": "60207e14-db2c-4668-fc1a-4e799f6b6cc8"
   },
   "outputs": [
    {
     "data": {
      "text/plain": [
       "2010    54998\n",
       "2009    43366\n",
       "2008    40273\n",
       "2007    20415\n",
       "2011    15125\n",
       "2006     9814\n",
       "2005     2483\n",
       "1956        3\n",
       "1979        1\n",
       "1957        1\n",
       "Name: year, dtype: int64"
      ]
     },
     "execution_count": 25,
     "metadata": {},
     "output_type": "execute_result"
    }
   ],
   "source": [
    "user_tags['year'].value_counts()"
   ]
  },
  {
   "cell_type": "code",
   "execution_count": 26,
   "metadata": {
    "colab": {
     "base_uri": "https://localhost:8080/"
    },
    "id": "7p9cKUpeBk_w",
    "outputId": "e308b4d8-0bcd-4688-b83d-e89ba546fcad"
   },
   "outputs": [
    {
     "data": {
      "text/plain": [
       "(186474, 4)"
      ]
     },
     "execution_count": 26,
     "metadata": {},
     "output_type": "execute_result"
    }
   ],
   "source": [
    "user_tags = user_tags[user_tags['year'] > 2000]\n",
    "user_tags.shape"
   ]
  },
  {
   "cell_type": "code",
   "execution_count": 27,
   "metadata": {
    "colab": {
     "base_uri": "https://localhost:8080/"
    },
    "id": "eFv56GQ5FRVZ",
    "outputId": "7c0810e9-8df3-4e4e-e215-e928be17a3ae"
   },
   "outputs": [
    {
     "data": {
      "text/plain": [
       "(186474, 4)"
      ]
     },
     "execution_count": 27,
     "metadata": {},
     "output_type": "execute_result"
    }
   ],
   "source": [
    "user_tags = user_tags.drop_duplicates(keep = 'first')\n",
    "user_tags.shape"
   ]
  },
  {
   "cell_type": "markdown",
   "metadata": {
    "id": "qdrrxWXTbYQ5"
   },
   "source": [
    "### Plot showing the number of times the song was played in the following year "
   ]
  },
  {
   "cell_type": "code",
   "execution_count": 28,
   "metadata": {
    "colab": {
     "base_uri": "https://localhost:8080/",
     "height": 429
    },
    "id": "sEOq-keVG2sF",
    "outputId": "1a2e9542-6e1b-49c6-bf22-1909d1bd02c6"
   },
   "outputs": [
    {
     "data": {
      "text/plain": [
       "Text(0, 0.5, 'year')"
      ]
     },
     "execution_count": 28,
     "metadata": {},
     "output_type": "execute_result"
    },
    {
     "data": {
      "image/png": "[encoded data removed]",
      "text/plain": [
       "<Figure size 720x432 with 1 Axes>"
      ]
     },
     "metadata": {
      "needs_background": "light"
     },
     "output_type": "display_data"
    }
   ],
   "source": [
    "yearly_tagged = user_tags['year'].value_counts()\n",
    "index = yearly_tagged.index\n",
    "values = yearly_tagged.values\n",
    "\n",
    "plt.figure(figsize = (10,6))\n",
    "plt.barh(index,values, color = sns.color_palette('muted',40))\n",
    "plt.title('Number of times the song was played',fontsize=20)\n",
    "plt.xlabel('Count',fontsize=12)\n",
    "plt.ylabel('year',fontsize=12)"
   ]
  },
  {
   "cell_type": "code",
   "execution_count": 29,
   "metadata": {
    "colab": {
     "base_uri": "https://localhost:8080/",
     "height": 204
    },
    "id": "s61GoIFO03Ly",
    "outputId": "3c011bd1-07e1-4bb2-e9ea-2829c7022f4b"
   },
   "outputs": [
    {
     "data": {
      "text/html": [
       "<div>\n",
       "<style scoped>\n",
       "    .dataframe tbody tr th:only-of-type {\n",
       "        vertical-align: middle;\n",
       "    }\n",
       "\n",
       "    .dataframe tbody tr th {\n",
       "        vertical-align: top;\n",
       "    }\n",
       "\n",
       "    .dataframe thead th {\n",
       "        text-align: right;\n",
       "    }\n",
       "</style>\n",
       "<table border=\"1\" class=\"dataframe\">\n",
       "  <thead>\n",
       "    <tr style=\"text-align: right;\">\n",
       "      <th></th>\n",
       "      <th>userID</th>\n",
       "      <th>artistID</th>\n",
       "      <th>weight</th>\n",
       "      <th>name</th>\n",
       "    </tr>\n",
       "  </thead>\n",
       "  <tbody>\n",
       "    <tr>\n",
       "      <th>0</th>\n",
       "      <td>2</td>\n",
       "      <td>51</td>\n",
       "      <td>13883</td>\n",
       "      <td>Duran Duran</td>\n",
       "    </tr>\n",
       "    <tr>\n",
       "      <th>1</th>\n",
       "      <td>4</td>\n",
       "      <td>51</td>\n",
       "      <td>228</td>\n",
       "      <td>Duran Duran</td>\n",
       "    </tr>\n",
       "    <tr>\n",
       "      <th>2</th>\n",
       "      <td>27</td>\n",
       "      <td>51</td>\n",
       "      <td>85</td>\n",
       "      <td>Duran Duran</td>\n",
       "    </tr>\n",
       "    <tr>\n",
       "      <th>3</th>\n",
       "      <td>28</td>\n",
       "      <td>51</td>\n",
       "      <td>10</td>\n",
       "      <td>Duran Duran</td>\n",
       "    </tr>\n",
       "    <tr>\n",
       "      <th>4</th>\n",
       "      <td>62</td>\n",
       "      <td>51</td>\n",
       "      <td>528</td>\n",
       "      <td>Duran Duran</td>\n",
       "    </tr>\n",
       "  </tbody>\n",
       "</table>\n",
       "</div>"
      ],
      "text/plain": [
       "   userID  artistID  weight         name\n",
       "0       2        51   13883  Duran Duran\n",
       "1       4        51     228  Duran Duran\n",
       "2      27        51      85  Duran Duran\n",
       "3      28        51      10  Duran Duran\n",
       "4      62        51     528  Duran Duran"
      ]
     },
     "execution_count": 29,
     "metadata": {},
     "output_type": "execute_result"
    }
   ],
   "source": [
    "ua_merge = user_artists.merge(artists , on = 'artistID')\n",
    "ua_merge.head()"
   ]
  },
  {
   "cell_type": "markdown",
   "metadata": {
    "id": "XU9YaBvsbYQ7"
   },
   "source": [
    "\n",
    "<table align=\"left\">\n",
    "    <tr>\n",
    "        <td width=\"15%\">\n",
    "            <img src=\"smallicon.png\">\n",
    "        </td>\n",
    "        <td>\n",
    "            <div align=\"center\", style=\"font-size:190%\">\n",
    "                <font color=\"#21618C\">\n",
    "                    <b>Correlation <br></b>\n",
    "                </font>\n",
    "            </div>\n",
    "        </td>\n",
    "    </tr>\n",
    "</table><a id='corr'></a>\n"
   ]
  },
  {
   "cell_type": "code",
   "execution_count": 30,
   "metadata": {
    "colab": {
     "base_uri": "https://localhost:8080/",
     "height": 613
    },
    "id": "BiXrrsIP1G-J",
    "outputId": "e8237238-19f5-4640-a7b9-31d60bb0358e"
   },
   "outputs": [
    {
     "data": {
      "text/plain": [
       "<matplotlib.axes._subplots.AxesSubplot at 0x2230ea5f640>"
      ]
     },
     "execution_count": 30,
     "metadata": {},
     "output_type": "execute_result"
    },
    {
     "data": {
      "image/png": "[encoded data removed]",
      "text/plain": [
       "<Figure size 1440x720 with 2 Axes>"
      ]
     },
     "metadata": {
      "needs_background": "light"
     },
     "output_type": "display_data"
    }
   ],
   "source": [
    "\n",
    "plt.figure(figsize = (20,10))\n",
    "sns.heatmap(ua_merge.corr() ,annot =True)"
   ]
  },
  {
   "cell_type": "markdown",
   "metadata": {
    "id": "FkGV6o8KD46f"
   },
   "source": [
    "<table align=\"left\">\n",
    "    <tr>\n",
    "        <td width=\"20%\">\n",
    "            <img src=\"head.jpeg\">\n",
    "        </td>\n",
    "        <td>\n",
    "            <div align=\"center\", style=\"font-size:300%\">\n",
    "                <font color=\"#21618C\">\n",
    "                    <b>Recommendation System<br></b>\n",
    "                </font>\n",
    "            </div>\n",
    "        </td>\n",
    "    </tr>\n",
    "</table><a id='rec'></a>"
   ]
  },
  {
   "cell_type": "markdown",
   "metadata": {
    "id": "SRjts1OrOsxC"
   },
   "source": [
    "\n",
    "<table align=\"left\">\n",
    "    <tr>\n",
    "        <td width=\"15%\">\n",
    "            <img src=\"smallicon.png\">\n",
    "        </td>\n",
    "        <td>\n",
    "            <div align=\"center\", style=\"font-size:190%\">\n",
    "                <font color=\"#21618C\">\n",
    "                    <b>Popularity Recommendation System<br></b>\n",
    "                </font>\n",
    "            </div>\n",
    "        </td>\n",
    "    </tr>\n",
    "</table><a id='pop'></a>"
   ]
  },
  {
   "cell_type": "code",
   "execution_count": 31,
   "metadata": {
    "id": "Hx-ySBbebqx4"
   },
   "outputs": [],
   "source": [
    "ua_mergeitem = ua_merge.copy(deep=True)"
   ]
  },
  {
   "cell_type": "markdown",
   "metadata": {
    "id": "QMFBD5U2Ox-X"
   },
   "source": [
    " \n",
    "<table align=\"left\">\n",
    "    <tr>\n",
    "       <td>\n",
    "            <div align=\"center\", style=\"font-size:150%\">\n",
    "                <font color=\"#21618C\">\n",
    "                    <b>Top artists based on number of times the their song was played.<br></b>\n",
    "                </font>\n",
    "            </div>\n",
    "        </td>\n",
    "    </tr>\n",
    "</table><a id='not'></a>"
   ]
  },
  {
   "cell_type": "code",
   "execution_count": 32,
   "metadata": {
    "colab": {
     "base_uri": "https://localhost:8080/",
     "height": 376
    },
    "id": "fzq_PjKknFYQ",
    "outputId": "3547c97e-a606-4de2-9c31-1021fda079ec"
   },
   "outputs": [
    {
     "name": "stdout",
     "output_type": "stream",
     "text": [
      "The Top artists are\n"
     ]
    },
    {
     "data": {
      "text/html": [
       "<div>\n",
       "<style scoped>\n",
       "    .dataframe tbody tr th:only-of-type {\n",
       "        vertical-align: middle;\n",
       "    }\n",
       "\n",
       "    .dataframe tbody tr th {\n",
       "        vertical-align: top;\n",
       "    }\n",
       "\n",
       "    .dataframe thead th {\n",
       "        text-align: right;\n",
       "    }\n",
       "</style>\n",
       "<table border=\"1\" class=\"dataframe\">\n",
       "  <thead>\n",
       "    <tr style=\"text-align: right;\">\n",
       "      <th></th>\n",
       "      <th>Name</th>\n",
       "      <th>Played_Counts</th>\n",
       "      <th>Rank</th>\n",
       "    </tr>\n",
       "  </thead>\n",
       "  <tbody>\n",
       "    <tr>\n",
       "      <th>0</th>\n",
       "      <td>Madonna</td>\n",
       "      <td>2393140</td>\n",
       "      <td>1.0</td>\n",
       "    </tr>\n",
       "    <tr>\n",
       "      <th>1</th>\n",
       "      <td>Depeche Mode</td>\n",
       "      <td>1301308</td>\n",
       "      <td>2.0</td>\n",
       "    </tr>\n",
       "    <tr>\n",
       "      <th>2</th>\n",
       "      <td>Lady Gaga</td>\n",
       "      <td>1291387</td>\n",
       "      <td>3.0</td>\n",
       "    </tr>\n",
       "    <tr>\n",
       "      <th>3</th>\n",
       "      <td>The Beatles</td>\n",
       "      <td>1058405</td>\n",
       "      <td>4.0</td>\n",
       "    </tr>\n",
       "    <tr>\n",
       "      <th>4</th>\n",
       "      <td>Rihanna</td>\n",
       "      <td>963449</td>\n",
       "      <td>5.0</td>\n",
       "    </tr>\n",
       "    <tr>\n",
       "      <th>5</th>\n",
       "      <td>Britney Spears</td>\n",
       "      <td>921198</td>\n",
       "      <td>6.0</td>\n",
       "    </tr>\n",
       "    <tr>\n",
       "      <th>6</th>\n",
       "      <td>Christina Aguilera</td>\n",
       "      <td>905423</td>\n",
       "      <td>7.0</td>\n",
       "    </tr>\n",
       "    <tr>\n",
       "      <th>7</th>\n",
       "      <td>Katy Perry</td>\n",
       "      <td>688529</td>\n",
       "      <td>8.0</td>\n",
       "    </tr>\n",
       "    <tr>\n",
       "      <th>8</th>\n",
       "      <td>Paramore</td>\n",
       "      <td>662116</td>\n",
       "      <td>9.0</td>\n",
       "    </tr>\n",
       "    <tr>\n",
       "      <th>9</th>\n",
       "      <td>Shakira</td>\n",
       "      <td>532545</td>\n",
       "      <td>10.0</td>\n",
       "    </tr>\n",
       "  </tbody>\n",
       "</table>\n",
       "</div>"
      ],
      "text/plain": [
       "                 Name  Played_Counts  Rank\n",
       "0             Madonna        2393140   1.0\n",
       "1        Depeche Mode        1301308   2.0\n",
       "2           Lady Gaga        1291387   3.0\n",
       "3         The Beatles        1058405   4.0\n",
       "4             Rihanna         963449   5.0\n",
       "5      Britney Spears         921198   6.0\n",
       "6  Christina Aguilera         905423   7.0\n",
       "7          Katy Perry         688529   8.0\n",
       "8            Paramore         662116   9.0\n",
       "9             Shakira         532545  10.0"
      ]
     },
     "execution_count": 32,
     "metadata": {},
     "output_type": "execute_result"
    }
   ],
   "source": [
    "def nooftimesplayed(x):\n",
    "  \n",
    "  g_weightbyartist = x.weight.groupby(ua_merge['artistID'])\n",
    "  s_weightbyartist = g_weightbyartist.sum()\n",
    "  s1 = s_weightbyartist.sort_values(ascending=False).head(10)\n",
    "  s1_id = s1.index\n",
    "  s1_value = s1.values\n",
    "  top_artists = pd.DataFrame([])\n",
    "  top_artists['Name']= np.where(artists['artistID'].isin(s1_id), artists['name'],'other' )\n",
    "  top_artists = top_artists[top_artists['Name'] != 'other'] \n",
    "  top_artists['Played_Counts'] = s1_value \n",
    "  top_artists = top_artists.reset_index(drop =True)\n",
    "  top_artists['Rank'] = top_artists['Played_Counts'].rank(method = 'max' ,ascending =False)\n",
    "  return top_artists\n",
    "\n",
    "print('The Top artists are')\n",
    "nop = nooftimesplayed(ua_merge)\n",
    "nop"
   ]
  },
  {
   "cell_type": "markdown",
   "metadata": {
    "id": "2-G16oUObYRE"
   },
   "source": [
    "### Plot showing top artists based on number of times thier songs were played"
   ]
  },
  {
   "cell_type": "code",
   "execution_count": 33,
   "metadata": {
    "colab": {
     "base_uri": "https://localhost:8080/",
     "height": 473
    },
    "id": "m2rhVGc2J24a",
    "outputId": "41f1b8b9-d911-4ee8-f466-c967b6cf12e4"
   },
   "outputs": [
    {
     "data": {
      "image/png": "[encoded data removed]",
      "text/plain": [
       "<Figure size 1080x432 with 1 Axes>"
      ]
     },
     "metadata": {
      "needs_background": "light"
     },
     "output_type": "display_data"
    }
   ],
   "source": [
    "plt.figure(figsize = (15,6))\n",
    "plt.bar(nop['Name'], nop['Played_Counts'],color = sns.color_palette('muted',40) , width = 0.5)\n",
    "plt.xticks(rotation = 45)\n",
    "plt.title('Top Artists based on Number of times the songs played', fontsize = 20)\n",
    "plt.xlabel('artist',fontsize=12)\n",
    "plt.ylabel('count',fontsize=12)\n",
    "plt.show()"
   ]
  },
  {
   "cell_type": "markdown",
   "metadata": {
    "id": "dLxUh7JeOfqc"
   },
   "source": [
    "<table align=\"left\">\n",
    "    <tr>\n",
    "       <td>\n",
    "            <div align=\"center\", style=\"font-size:150%\">\n",
    "                <font color=\"#21618C\">\n",
    "                    <b>Top artists based on the number of users<br></b>\n",
    "                </font>\n",
    "            </div>\n",
    "        </td>\n",
    "    </tr>\n",
    "</table><a id='nou'></a>"
   ]
  },
  {
   "cell_type": "code",
   "execution_count": 34,
   "metadata": {
    "colab": {
     "base_uri": "https://localhost:8080/",
     "height": 376
    },
    "id": "c1MlV2tBnFYQ",
    "outputId": "78877b17-a2d8-4b50-b80c-46d86b7efe98"
   },
   "outputs": [
    {
     "name": "stdout",
     "output_type": "stream",
     "text": [
      "The top artist in terms of listeners\n"
     ]
    },
    {
     "data": {
      "text/html": [
       "<div>\n",
       "<style scoped>\n",
       "    .dataframe tbody tr th:only-of-type {\n",
       "        vertical-align: middle;\n",
       "    }\n",
       "\n",
       "    .dataframe tbody tr th {\n",
       "        vertical-align: top;\n",
       "    }\n",
       "\n",
       "    .dataframe thead th {\n",
       "        text-align: right;\n",
       "    }\n",
       "</style>\n",
       "<table border=\"1\" class=\"dataframe\">\n",
       "  <thead>\n",
       "    <tr style=\"text-align: right;\">\n",
       "      <th></th>\n",
       "      <th>Name</th>\n",
       "      <th>No_of_Users</th>\n",
       "      <th>Rank</th>\n",
       "    </tr>\n",
       "  </thead>\n",
       "  <tbody>\n",
       "    <tr>\n",
       "      <th>61</th>\n",
       "      <td>Madonna</td>\n",
       "      <td>611</td>\n",
       "      <td>1.0</td>\n",
       "    </tr>\n",
       "    <tr>\n",
       "      <th>83</th>\n",
       "      <td>Lady Gaga</td>\n",
       "      <td>522</td>\n",
       "      <td>2.0</td>\n",
       "    </tr>\n",
       "    <tr>\n",
       "      <th>184</th>\n",
       "      <td>Muse</td>\n",
       "      <td>484</td>\n",
       "      <td>3.0</td>\n",
       "    </tr>\n",
       "    <tr>\n",
       "      <th>221</th>\n",
       "      <td>The Beatles</td>\n",
       "      <td>480</td>\n",
       "      <td>4.0</td>\n",
       "    </tr>\n",
       "    <tr>\n",
       "      <th>282</th>\n",
       "      <td>Rihanna</td>\n",
       "      <td>473</td>\n",
       "      <td>5.0</td>\n",
       "    </tr>\n",
       "    <tr>\n",
       "      <th>283</th>\n",
       "      <td>Britney Spears</td>\n",
       "      <td>429</td>\n",
       "      <td>6.0</td>\n",
       "    </tr>\n",
       "    <tr>\n",
       "      <th>286</th>\n",
       "      <td>Christina Aguilera</td>\n",
       "      <td>417</td>\n",
       "      <td>7.0</td>\n",
       "    </tr>\n",
       "    <tr>\n",
       "      <th>294</th>\n",
       "      <td>Katy Perry</td>\n",
       "      <td>407</td>\n",
       "      <td>8.0</td>\n",
       "    </tr>\n",
       "    <tr>\n",
       "      <th>327</th>\n",
       "      <td>Avril Lavigne</td>\n",
       "      <td>400</td>\n",
       "      <td>9.0</td>\n",
       "    </tr>\n",
       "    <tr>\n",
       "      <th>492</th>\n",
       "      <td>Paramore</td>\n",
       "      <td>399</td>\n",
       "      <td>10.0</td>\n",
       "    </tr>\n",
       "  </tbody>\n",
       "</table>\n",
       "</div>"
      ],
      "text/plain": [
       "                   Name  No_of_Users  Rank\n",
       "61              Madonna          611   1.0\n",
       "83            Lady Gaga          522   2.0\n",
       "184                Muse          484   3.0\n",
       "221         The Beatles          480   4.0\n",
       "282             Rihanna          473   5.0\n",
       "283      Britney Spears          429   6.0\n",
       "286  Christina Aguilera          417   7.0\n",
       "294          Katy Perry          407   8.0\n",
       "327       Avril Lavigne          400   9.0\n",
       "492            Paramore          399  10.0"
      ]
     },
     "execution_count": 34,
     "metadata": {},
     "output_type": "execute_result"
    }
   ],
   "source": [
    "def noofusers(x):\n",
    "\n",
    "   g_listenerbyartist = x.userID.groupby(x['artistID'])\n",
    "   s_listenerbyartist = g_listenerbyartist.count()\n",
    "   s2 = s_listenerbyartist.sort_values(ascending=False).head(10)\n",
    "   s2_id = s2.index\n",
    "   s2_value = s2.values\n",
    "   top_artists1 = pd.DataFrame([])\n",
    "   top_artists1['Name']= np.where(artists['artistID'].isin(s2_id), artists['name'],'other' )\n",
    "   top_artists1 = top_artists1[top_artists1['Name'] != 'other']\n",
    "   top_artists1['No_of_Users'] = s2_value \n",
    "   top_artists1['Rank'] = top_artists1['No_of_Users'].rank(method = 'max' ,ascending =False)\n",
    "   return top_artists1\n",
    "\n",
    "print('The top artist in terms of listeners')\n",
    "nou = noofusers(ua_merge)\n",
    "nou"
   ]
  },
  {
   "cell_type": "markdown",
   "metadata": {
    "id": "E9kUQd7HbYRI"
   },
   "source": [
    "### Plot showing top artists based on number of users"
   ]
  },
  {
   "cell_type": "code",
   "execution_count": 35,
   "metadata": {
    "colab": {
     "base_uri": "https://localhost:8080/",
     "height": 473
    },
    "id": "BIKaNHKYatvC",
    "outputId": "d06061e0-6183-432d-e4a4-122f23a5006d"
   },
   "outputs": [
    {
     "data": {
      "image/png": "[encoded data removed]",
      "text/plain": [
       "<Figure size 1080x432 with 1 Axes>"
      ]
     },
     "metadata": {
      "needs_background": "light"
     },
     "output_type": "display_data"
    }
   ],
   "source": [
    "plt.figure(figsize = (15,6))\n",
    "plt.bar(nou['Name'], nou['No_of_Users'], color=sns.color_palette('muted',40) ,width= 0.5)\n",
    "plt.xticks(rotation = 45)\n",
    "plt.title('Top Artists based on number of users', fontsize = 20)\n",
    "plt.xlabel('artist',fontsize=12)\n",
    "plt.ylabel('count of users',fontsize=12)\n",
    "plt.show()\n"
   ]
  },
  {
   "cell_type": "markdown",
   "metadata": {
    "id": "1BnxB8ZIhi_i"
   },
   "source": [
    "<table align=\"left\">\n",
    "    <tr>\n",
    "        <td width=\"15%\">\n",
    "            <img src=\"smallicon.png\">\n",
    "        </td>\n",
    "        <td>\n",
    "            <div align=\"center\", style=\"font-size:190%\">\n",
    "                <font color=\"#21618C\">\n",
    "                    <b>Mood-Text Classifier<br></b>\n",
    "                </font>\n",
    "            </div>\n",
    "        </td>\n",
    "    </tr>\n",
    "</table><a id='mt'></a>"
   ]
  },
  {
   "cell_type": "markdown",
   "metadata": {
    "id": "MOF4P_yybYRK"
   },
   "source": [
    "<table align=\"left\">\n",
    "    <tr>\n",
    "       <td>\n",
    "            <div align=\"center\", style=\"font-size:130%\">\n",
    "                <font color=\"#21618C\">\n",
    "                    <b>Importing the required Libraries and text file for mood-text classifier<br></b>\n",
    "                </font>\n",
    "            </div>\n",
    "        </td>\n",
    "    </tr>\n",
    "</table><a id='import_lib1'></a>"
   ]
  },
  {
   "cell_type": "code",
   "execution_count": 36,
   "metadata": {
    "id": "7WcExeZQ8exl"
   },
   "outputs": [],
   "source": [
    "from sklearn.utils import shuffle\n",
    "from sklearn.linear_model import LogisticRegression\n",
    "from sklearn.pipeline import Pipeline\n",
    "from sklearn.decomposition import PCA\n",
    "from sklearn.metrics import classification_report\n",
    "from sklearn.ensemble import RandomForestClassifier\n",
    "from sklearn.model_selection import train_test_split ,GridSearchCV\n",
    "from sklearn.feature_extraction.text import TfidfVectorizer\n",
    "from sklearn.decomposition import TruncatedSVD\n",
    "import pickle"
   ]
  },
  {
   "cell_type": "code",
   "execution_count": 37,
   "metadata": {
    "colab": {
     "base_uri": "https://localhost:8080/",
     "height": 204
    },
    "id": "8qqshLUqhn0N",
    "outputId": "553da24f-6028-4f54-9a10-08cbe7923f99"
   },
   "outputs": [
    {
     "data": {
      "text/html": [
       "<div>\n",
       "<style scoped>\n",
       "    .dataframe tbody tr th:only-of-type {\n",
       "        vertical-align: middle;\n",
       "    }\n",
       "\n",
       "    .dataframe tbody tr th {\n",
       "        vertical-align: top;\n",
       "    }\n",
       "\n",
       "    .dataframe thead th {\n",
       "        text-align: right;\n",
       "    }\n",
       "</style>\n",
       "<table border=\"1\" class=\"dataframe\">\n",
       "  <thead>\n",
       "    <tr style=\"text-align: right;\">\n",
       "      <th></th>\n",
       "      <th>text</th>\n",
       "      <th>label</th>\n",
       "    </tr>\n",
       "  </thead>\n",
       "  <tbody>\n",
       "    <tr>\n",
       "      <th>0</th>\n",
       "      <td>I don’t want it</td>\n",
       "      <td>0</td>\n",
       "    </tr>\n",
       "    <tr>\n",
       "      <th>1</th>\n",
       "      <td>So, depressed</td>\n",
       "      <td>0</td>\n",
       "    </tr>\n",
       "    <tr>\n",
       "      <th>2</th>\n",
       "      <td>Cannot wait anymore</td>\n",
       "      <td>0</td>\n",
       "    </tr>\n",
       "    <tr>\n",
       "      <th>3</th>\n",
       "      <td>Leave me alone</td>\n",
       "      <td>0</td>\n",
       "    </tr>\n",
       "    <tr>\n",
       "      <th>4</th>\n",
       "      <td>Had a worst day</td>\n",
       "      <td>0</td>\n",
       "    </tr>\n",
       "  </tbody>\n",
       "</table>\n",
       "</div>"
      ],
      "text/plain": [
       "                  text  label\n",
       "0      I don’t want it      0\n",
       "1        So, depressed      0\n",
       "2  Cannot wait anymore      0\n",
       "3       Leave me alone      0\n",
       "4      Had a worst day      0"
      ]
     },
     "execution_count": 37,
     "metadata": {},
     "output_type": "execute_result"
    }
   ],
   "source": [
    "data = pd.read_csv('text.csv').drop('Unnamed: 0',axis=1)\n",
    "data.head()"
   ]
  },
  {
   "cell_type": "code",
   "execution_count": 38,
   "metadata": {
    "colab": {
     "base_uri": "https://localhost:8080/"
    },
    "id": "MAHgV8HlbYRN",
    "outputId": "d187bd9e-b97c-4b83-8e72-a8613c9ef2ad"
   },
   "outputs": [
    {
     "name": "stdout",
     "output_type": "stream",
     "text": [
      "Happy: 1 😀\n",
      "Sad:0 😔\n"
     ]
    }
   ],
   "source": [
    "print('Happy: 1 \\U0001f600')\n",
    "print ( 'Sad:0 \\N{pensive face}' )  \n"
   ]
  },
  {
   "cell_type": "code",
   "execution_count": 39,
   "metadata": {
    "colab": {
     "base_uri": "https://localhost:8080/",
     "height": 204
    },
    "id": "MOAR1wkP7Whj",
    "outputId": "0a7c144a-d1f0-4e38-fe58-8e646890222a"
   },
   "outputs": [
    {
     "data": {
      "text/html": [
       "<div>\n",
       "<style scoped>\n",
       "    .dataframe tbody tr th:only-of-type {\n",
       "        vertical-align: middle;\n",
       "    }\n",
       "\n",
       "    .dataframe tbody tr th {\n",
       "        vertical-align: top;\n",
       "    }\n",
       "\n",
       "    .dataframe thead th {\n",
       "        text-align: right;\n",
       "    }\n",
       "</style>\n",
       "<table border=\"1\" class=\"dataframe\">\n",
       "  <thead>\n",
       "    <tr style=\"text-align: right;\">\n",
       "      <th></th>\n",
       "      <th>text</th>\n",
       "      <th>label</th>\n",
       "    </tr>\n",
       "  </thead>\n",
       "  <tbody>\n",
       "    <tr>\n",
       "      <th>67</th>\n",
       "      <td>he is far from happy at his job</td>\n",
       "      <td>1</td>\n",
       "    </tr>\n",
       "    <tr>\n",
       "      <th>45</th>\n",
       "      <td>I dislike things that you make</td>\n",
       "      <td>0</td>\n",
       "    </tr>\n",
       "    <tr>\n",
       "      <th>78</th>\n",
       "      <td>Go and enjoy yourself</td>\n",
       "      <td>1</td>\n",
       "    </tr>\n",
       "    <tr>\n",
       "      <th>52</th>\n",
       "      <td>The rich are not always joyful</td>\n",
       "      <td>1</td>\n",
       "    </tr>\n",
       "    <tr>\n",
       "      <th>39</th>\n",
       "      <td>I feel unknowing</td>\n",
       "      <td>0</td>\n",
       "    </tr>\n",
       "  </tbody>\n",
       "</table>\n",
       "</div>"
      ],
      "text/plain": [
       "                               text  label\n",
       "67  he is far from happy at his job      1\n",
       "45   I dislike things that you make      0\n",
       "78            Go and enjoy yourself      1\n",
       "52   The rich are not always joyful      1\n",
       "39                 I feel unknowing      0"
      ]
     },
     "execution_count": 39,
     "metadata": {},
     "output_type": "execute_result"
    }
   ],
   "source": [
    "data = shuffle(data)\n",
    "data.tail()"
   ]
  },
  {
   "cell_type": "code",
   "execution_count": 40,
   "metadata": {
    "colab": {
     "base_uri": "https://localhost:8080/"
    },
    "id": "h4wziCao-nDU",
    "outputId": "3c5acb98-6e17-4ca8-8fc8-c775f76f7cd8"
   },
   "outputs": [
    {
     "data": {
      "text/plain": [
       "(100, 2)"
      ]
     },
     "execution_count": 40,
     "metadata": {},
     "output_type": "execute_result"
    }
   ],
   "source": [
    "data.shape"
   ]
  },
  {
   "cell_type": "code",
   "execution_count": 41,
   "metadata": {
    "colab": {
     "base_uri": "https://localhost:8080/"
    },
    "id": "X-IxaRM-E628",
    "outputId": "68790d8b-1342-47fd-8f9e-36e382c4961a"
   },
   "outputs": [
    {
     "data": {
      "text/plain": [
       "98    1\n",
       "62    1\n",
       "82    1\n",
       "20    0\n",
       "59    1\n",
       "Name: label, dtype: int64"
      ]
     },
     "execution_count": 41,
     "metadata": {},
     "output_type": "execute_result"
    }
   ],
   "source": [
    "target = data['label']\n",
    "target.head()"
   ]
  },
  {
   "cell_type": "markdown",
   "metadata": {
    "id": "1POC0V4KbYRT"
   },
   "source": [
    "<table align=\"left\">\n",
    "    <tr>\n",
    "       <td>\n",
    "            <div align=\"center\", style=\"font-size:150%\">\n",
    "                <font color=\"#21618C\">\n",
    "                    <b>Train-Test Split of the data <br></b>\n",
    "                </font>\n",
    "            </div>\n",
    "        </td>\n",
    "    </tr>\n",
    "</table><a id='tt'></a>"
   ]
  },
  {
   "cell_type": "code",
   "execution_count": 42,
   "metadata": {
    "id": "KixEW3_PEoif"
   },
   "outputs": [],
   "source": [
    "x_train , x_test, y_train , y_test = train_test_split(data.drop('label' , axis =1) , target , test_size = 0.2 ,random_state = 10)"
   ]
  },
  {
   "cell_type": "code",
   "execution_count": 43,
   "metadata": {
    "colab": {
     "base_uri": "https://localhost:8080/"
    },
    "id": "AUnpLJ0XMRoB",
    "outputId": "7ceeff40-9c0a-4cec-d06e-964391e38ef9"
   },
   "outputs": [
    {
     "data": {
      "text/plain": [
       "(80, 265)"
      ]
     },
     "execution_count": 43,
     "metadata": {},
     "output_type": "execute_result"
    }
   ],
   "source": [
    "tfidf = TfidfVectorizer(stop_words='english',ngram_range = (1,2))\n",
    "tfmatrix= tfidf.fit_transform(x_train['text'])\n",
    "tfmatrix.shape"
   ]
  },
  {
   "cell_type": "code",
   "execution_count": 44,
   "metadata": {
    "id": "v1uYwhm3bYRU"
   },
   "outputs": [],
   "source": [
    "svd = TruncatedSVD(n_components=6)\n",
    "tfmatrix = svd.fit_transform(tfmatrix)"
   ]
  },
  {
   "cell_type": "code",
   "execution_count": 45,
   "metadata": {
    "colab": {
     "base_uri": "https://localhost:8080/"
    },
    "id": "LGB5WpZqHGoH",
    "outputId": "4a7f6261-e72b-492a-8807-a07ade21f35e"
   },
   "outputs": [
    {
     "name": "stdout",
     "output_type": "stream",
     "text": [
      "{'criterion': 'gini', 'max_depth': 10, 'max_leaf_nodes': 2, 'n_estimators': 70}\n",
      "0.9249762583095915\n"
     ]
    }
   ],
   "source": [
    "tuned_paramaters = [{'criterion': ['entropy', 'gini'],\n",
    "                     'n_estimators': [10, 30, 50, 70, 90],\n",
    "                     'max_depth': [10, 15, 20],\n",
    "                     'max_leaf_nodes': [2, 5, 8, 11]}]\n",
    "rf = RandomForestClassifier(random_state = 10)\n",
    "rf_grid = GridSearchCV(estimator = rf , \n",
    "                       param_grid = tuned_paramaters, \n",
    "                       cv = 3,\n",
    "                       scoring = 'accuracy')\n",
    "rf_grid.fit(tfmatrix,y_train)\n",
    "\n",
    "print(rf_grid.best_params_)\n",
    "print(rf_grid.best_score_)"
   ]
  },
  {
   "cell_type": "code",
   "execution_count": 46,
   "metadata": {
    "colab": {
     "base_uri": "https://localhost:8080/"
    },
    "id": "VcA2AkFo_Bjk",
    "outputId": "323c1e01-afdf-49d8-f2ac-0115fdbe0673"
   },
   "outputs": [
    {
     "data": {
      "text/plain": [
       "RandomForestClassifier(criterion='entropy', max_depth=10, max_leaf_nodes=11,\n",
       "                       n_estimators=50, random_state=10)"
      ]
     },
     "execution_count": 46,
     "metadata": {},
     "output_type": "execute_result"
    }
   ],
   "source": [
    "clf = RandomForestClassifier(random_state = 10 , criterion = 'entropy' , max_depth = 10 , max_leaf_nodes= 11,n_estimators= 50)\n",
    "clf.fit(tfmatrix , y_train)"
   ]
  },
  {
   "cell_type": "code",
   "execution_count": 47,
   "metadata": {
    "colab": {
     "base_uri": "https://localhost:8080/"
    },
    "id": "jn9qhWzeOujL",
    "outputId": "878a1629-25dd-47c1-c844-cdb98f117c97"
   },
   "outputs": [
    {
     "data": {
      "text/plain": [
       "21                              Cannot bear you anymore\n",
       "55    My friend is very joyful about the future of t...\n",
       "42                  Don’t play with my feelings anymore\n",
       "53    He looked at Natasha as she sang, and somethin...\n",
       "90               we really enjoyed your company tonight\n",
       "Name: text, dtype: object"
      ]
     },
     "execution_count": 47,
     "metadata": {},
     "output_type": "execute_result"
    }
   ],
   "source": [
    "x_test['text'].head(5)"
   ]
  },
  {
   "cell_type": "code",
   "execution_count": 48,
   "metadata": {
    "id": "QZpD1KkoNUM1"
   },
   "outputs": [],
   "source": [
    "tfmatrixtest = tfidf.transform(x_test['text'])\n",
    "tfmatrixtest = svd.transform(tfmatrixtest)"
   ]
  },
  {
   "cell_type": "code",
   "execution_count": 49,
   "metadata": {
    "colab": {
     "base_uri": "https://localhost:8080/"
    },
    "id": "MvAuGDOG_1wk",
    "outputId": "524461f3-4968-4a92-bfbc-340391925e51"
   },
   "outputs": [
    {
     "name": "stdout",
     "output_type": "stream",
     "text": [
      "              precision    recall  f1-score   support\n",
      "\n",
      "           0       0.91      0.91      0.91        11\n",
      "           1       0.89      0.89      0.89         9\n",
      "\n",
      "    accuracy                           0.90        20\n",
      "   macro avg       0.90      0.90      0.90        20\n",
      "weighted avg       0.90      0.90      0.90        20\n",
      "\n"
     ]
    }
   ],
   "source": [
    "pred = clf.predict(tfmatrixtest)\n",
    "cr = classification_report(y_test,pred)\n",
    "print(cr)"
   ]
  },
  {
   "cell_type": "code",
   "execution_count": 50,
   "metadata": {
    "colab": {
     "base_uri": "https://localhost:8080/"
    },
    "id": "EyYyls0AOroE",
    "outputId": "3ceb029a-ffdb-4f25-de35-c41eb8443d1e"
   },
   "outputs": [
    {
     "data": {
      "text/plain": [
       "array([1], dtype=int64)"
      ]
     },
     "execution_count": 50,
     "metadata": {},
     "output_type": "execute_result"
    }
   ],
   "source": [
    "sen = tfidf.transform(x_test['text'][4:5])\n",
    "sen = svd.transform(sen)\n",
    "o = clf.predict(sen)\n",
    "o"
   ]
  },
  {
   "cell_type": "markdown",
   "metadata": {
    "id": "L7cd8aiJdO5K"
   },
   "source": [
    "<table align=\"left\">\n",
    "    <tr>\n",
    "        <td width=\"15%\">\n",
    "            <img src=\"smallicon.png\">\n",
    "        </td>\n",
    "        <td>\n",
    "            <div align=\"center\", style=\"font-size:190%\">\n",
    "                <font color=\"#21618C\">\n",
    "                    <b>Collabrative Filtering Recommendation System<br></b>\n",
    "                </font>\n",
    "            </div>\n",
    "        </td>\n",
    "    </tr>\n",
    "</table><a id='collab'></a>"
   ]
  },
  {
   "cell_type": "markdown",
   "metadata": {
    "id": "lPj1BftDtA6o"
   },
   "source": [
    "\n",
    "<table align=\"left\">\n",
    "    <tr>\n",
    "       <td>\n",
    "            <div align=\"center\", style=\"font-size:150%\">\n",
    "                <font color=\"#21618C\">\n",
    "                    <b>User-Used Based Collabrative Filtering Recommendation System<br></b>\n",
    "                </font>\n",
    "            </div>\n",
    "        </td>\n",
    "    </tr>\n",
    "</table><a id='uu'></a>\n",
    "\n"
   ]
  },
  {
   "cell_type": "code",
   "execution_count": 51,
   "metadata": {
    "colab": {
     "base_uri": "https://localhost:8080/",
     "height": 204
    },
    "id": "FfpUmTo0yLJq",
    "outputId": "b3eaa6ce-b3f3-4bd8-f06a-85d4dbe9987e"
   },
   "outputs": [
    {
     "data": {
      "text/html": [
       "<div>\n",
       "<style scoped>\n",
       "    .dataframe tbody tr th:only-of-type {\n",
       "        vertical-align: middle;\n",
       "    }\n",
       "\n",
       "    .dataframe tbody tr th {\n",
       "        vertical-align: top;\n",
       "    }\n",
       "\n",
       "    .dataframe thead th {\n",
       "        text-align: right;\n",
       "    }\n",
       "</style>\n",
       "<table border=\"1\" class=\"dataframe\">\n",
       "  <thead>\n",
       "    <tr style=\"text-align: right;\">\n",
       "      <th></th>\n",
       "      <th>userID</th>\n",
       "      <th>artistID</th>\n",
       "      <th>weight</th>\n",
       "      <th>name</th>\n",
       "    </tr>\n",
       "  </thead>\n",
       "  <tbody>\n",
       "    <tr>\n",
       "      <th>0</th>\n",
       "      <td>2</td>\n",
       "      <td>51</td>\n",
       "      <td>13883</td>\n",
       "      <td>Duran Duran</td>\n",
       "    </tr>\n",
       "    <tr>\n",
       "      <th>1</th>\n",
       "      <td>4</td>\n",
       "      <td>51</td>\n",
       "      <td>228</td>\n",
       "      <td>Duran Duran</td>\n",
       "    </tr>\n",
       "    <tr>\n",
       "      <th>2</th>\n",
       "      <td>27</td>\n",
       "      <td>51</td>\n",
       "      <td>85</td>\n",
       "      <td>Duran Duran</td>\n",
       "    </tr>\n",
       "    <tr>\n",
       "      <th>3</th>\n",
       "      <td>28</td>\n",
       "      <td>51</td>\n",
       "      <td>10</td>\n",
       "      <td>Duran Duran</td>\n",
       "    </tr>\n",
       "    <tr>\n",
       "      <th>4</th>\n",
       "      <td>62</td>\n",
       "      <td>51</td>\n",
       "      <td>528</td>\n",
       "      <td>Duran Duran</td>\n",
       "    </tr>\n",
       "  </tbody>\n",
       "</table>\n",
       "</div>"
      ],
      "text/plain": [
       "   userID  artistID  weight         name\n",
       "0       2        51   13883  Duran Duran\n",
       "1       4        51     228  Duran Duran\n",
       "2      27        51      85  Duran Duran\n",
       "3      28        51      10  Duran Duran\n",
       "4      62        51     528  Duran Duran"
      ]
     },
     "execution_count": 51,
     "metadata": {},
     "output_type": "execute_result"
    }
   ],
   "source": [
    "ua_merge.head()"
   ]
  },
  {
   "cell_type": "code",
   "execution_count": 52,
   "metadata": {
    "id": "4lFcTq_nB5m3"
   },
   "outputs": [],
   "source": [
    "reader = Reader(rating_scale=(1,352698))\n",
    "data = Dataset.load_from_df(ua_merge[[\"userID\", \"name\", \"weight\"]], reader)\n",
    "trainset = data.build_full_trainset()"
   ]
  },
  {
   "cell_type": "code",
   "execution_count": 53,
   "metadata": {
    "id": "9NonOsMEE5Rm"
   },
   "outputs": [
    {
     "name": "stdout",
     "output_type": "stream",
     "text": [
      "Computing the msd similarity matrix...\n",
      "Done computing similarity matrix.\n",
      "Computing the msd similarity matrix...\n",
      "Done computing similarity matrix.\n",
      "Computing the msd similarity matrix...\n",
      "Done computing similarity matrix.\n",
      "Computing the msd similarity matrix...\n",
      "Done computing similarity matrix.\n",
      "Computing the msd similarity matrix...\n",
      "Done computing similarity matrix.\n",
      "Computing the msd similarity matrix...\n",
      "Done computing similarity matrix.\n",
      "Computing the msd similarity matrix...\n",
      "Done computing similarity matrix.\n",
      "Computing the msd similarity matrix...\n",
      "Done computing similarity matrix.\n",
      "Computing the msd similarity matrix...\n",
      "Done computing similarity matrix.\n",
      "Computing the msd similarity matrix...\n",
      "Done computing similarity matrix.\n",
      "Computing the msd similarity matrix...\n",
      "Done computing similarity matrix.\n",
      "Computing the msd similarity matrix...\n",
      "Done computing similarity matrix.\n",
      "Computing the msd similarity matrix...\n",
      "Done computing similarity matrix.\n",
      "Computing the msd similarity matrix...\n",
      "Done computing similarity matrix.\n",
      "Computing the msd similarity matrix...\n",
      "Done computing similarity matrix.\n",
      "Computing the msd similarity matrix...\n",
      "Done computing similarity matrix.\n",
      "Computing the msd similarity matrix...\n",
      "Done computing similarity matrix.\n",
      "Computing the msd similarity matrix...\n",
      "Done computing similarity matrix.\n",
      "Computing the msd similarity matrix...\n",
      "Done computing similarity matrix.\n",
      "Computing the msd similarity matrix...\n",
      "Done computing similarity matrix.\n",
      "Computing the msd similarity matrix...\n",
      "Done computing similarity matrix.\n",
      "Computing the msd similarity matrix...\n",
      "Done computing similarity matrix.\n",
      "Computing the msd similarity matrix...\n",
      "Done computing similarity matrix.\n",
      "Computing the msd similarity matrix...\n",
      "Done computing similarity matrix.\n",
      "Computing the msd similarity matrix...\n",
      "Done computing similarity matrix.\n",
      "Computing the msd similarity matrix...\n",
      "Done computing similarity matrix.\n",
      "Computing the msd similarity matrix...\n",
      "Done computing similarity matrix.\n",
      "Computing the cosine similarity matrix...\n",
      "Done computing similarity matrix.\n",
      "Computing the cosine similarity matrix...\n",
      "Done computing similarity matrix.\n",
      "Computing the cosine similarity matrix...\n",
      "Done computing similarity matrix.\n",
      "Computing the cosine similarity matrix...\n",
      "Done computing similarity matrix.\n",
      "Computing the cosine similarity matrix...\n",
      "Done computing similarity matrix.\n",
      "Computing the cosine similarity matrix...\n",
      "Done computing similarity matrix.\n",
      "Computing the cosine similarity matrix...\n",
      "Done computing similarity matrix.\n",
      "Computing the cosine similarity matrix...\n",
      "Done computing similarity matrix.\n",
      "Computing the cosine similarity matrix...\n",
      "Done computing similarity matrix.\n",
      "Computing the cosine similarity matrix...\n",
      "Done computing similarity matrix.\n",
      "Computing the cosine similarity matrix...\n",
      "Done computing similarity matrix.\n",
      "Computing the cosine similarity matrix...\n",
      "Done computing similarity matrix.\n",
      "Computing the cosine similarity matrix...\n",
      "Done computing similarity matrix.\n",
      "Computing the cosine similarity matrix...\n",
      "Done computing similarity matrix.\n",
      "Computing the cosine similarity matrix...\n",
      "Done computing similarity matrix.\n",
      "Computing the cosine similarity matrix...\n",
      "Done computing similarity matrix.\n",
      "Computing the cosine similarity matrix...\n",
      "Done computing similarity matrix.\n",
      "Computing the cosine similarity matrix...\n",
      "Done computing similarity matrix.\n",
      "Computing the cosine similarity matrix...\n",
      "Done computing similarity matrix.\n",
      "Computing the cosine similarity matrix...\n",
      "Done computing similarity matrix.\n",
      "Computing the cosine similarity matrix...\n",
      "Done computing similarity matrix.\n",
      "Computing the cosine similarity matrix...\n",
      "Done computing similarity matrix.\n",
      "Computing the cosine similarity matrix...\n",
      "Done computing similarity matrix.\n",
      "Computing the cosine similarity matrix...\n",
      "Done computing similarity matrix.\n",
      "Computing the cosine similarity matrix...\n",
      "Done computing similarity matrix.\n",
      "Computing the cosine similarity matrix...\n",
      "Done computing similarity matrix.\n",
      "Computing the cosine similarity matrix...\n",
      "Done computing similarity matrix.\n"
     ]
    }
   ],
   "source": [
    "# Tuning the Model\n",
    "sim_options = {\n",
    "    \"name\": [\"msd\", \"cosine\"],\n",
    "    \"min_support\": [3, 4, 5],\n",
    "    'k':[100,500,1000]\n",
    "}\n",
    "param_grid = {\"sim_options\": sim_options}\n",
    "\n",
    "gs = surprise.model_selection.search.GridSearchCV(KNNWithMeans, param_grid, measures=[\"rmse\"], cv=3)\n",
    "gs.fit(data)"
   ]
  },
  {
   "cell_type": "code",
   "execution_count": 54,
   "metadata": {
    "id": "dQEHmX3bJqi2"
   },
   "outputs": [
    {
     "name": "stdout",
     "output_type": "stream",
     "text": [
      "3728.101920772973\n",
      "{'sim_options': {'name': 'cosine', 'min_support': 3, 'k': 100, 'user_based': True}}\n"
     ]
    }
   ],
   "source": [
    "print(gs.best_score[\"rmse\"])\n",
    "print(gs.best_params[\"rmse\"])"
   ]
  },
  {
   "cell_type": "code",
   "execution_count": 55,
   "metadata": {
    "colab": {
     "base_uri": "https://localhost:8080/"
    },
    "id": "cnuIOS4pE4js",
    "outputId": "f1a321f6-56f8-4b98-9665-ca3691e0fc6a"
   },
   "outputs": [
    {
     "name": "stdout",
     "output_type": "stream",
     "text": [
      "Computing the cosine similarity matrix...\n",
      "Done computing similarity matrix.\n"
     ]
    },
    {
     "data": {
      "text/plain": [
       "<surprise.prediction_algorithms.knns.KNNWithMeans at 0x22310eb8e80>"
      ]
     },
     "execution_count": 55,
     "metadata": {},
     "output_type": "execute_result"
    }
   ],
   "source": [
    "sim_options = {\n",
    "    \"name\": \"cosine\",\n",
    "    \"user_based\": True, \n",
    "    'min_support':3,\n",
    "    'k': 100\n",
    "}\n",
    "algo = KNNWithMeans(sim_options=sim_options)\n",
    "algo.fit(trainset)"
   ]
  },
  {
   "cell_type": "code",
   "execution_count": 56,
   "metadata": {
    "id": "dmqRlIh0Jnlp"
   },
   "outputs": [
    {
     "data": {
      "text/html": [
       "<div>\n",
       "<style scoped>\n",
       "    .dataframe tbody tr th:only-of-type {\n",
       "        vertical-align: middle;\n",
       "    }\n",
       "\n",
       "    .dataframe tbody tr th {\n",
       "        vertical-align: top;\n",
       "    }\n",
       "\n",
       "    .dataframe thead th {\n",
       "        text-align: right;\n",
       "    }\n",
       "</style>\n",
       "<table border=\"1\" class=\"dataframe\">\n",
       "  <thead>\n",
       "    <tr style=\"text-align: right;\">\n",
       "      <th></th>\n",
       "      <th>uid</th>\n",
       "      <th>iid</th>\n",
       "      <th>r_ui</th>\n",
       "      <th>est</th>\n",
       "    </tr>\n",
       "  </thead>\n",
       "  <tbody>\n",
       "    <tr>\n",
       "      <th>0</th>\n",
       "      <td>2</td>\n",
       "      <td>Viking Quest</td>\n",
       "      <td>11690</td>\n",
       "      <td>36668.360000</td>\n",
       "    </tr>\n",
       "    <tr>\n",
       "      <th>1</th>\n",
       "      <td>2</td>\n",
       "      <td>Thalía</td>\n",
       "      <td>11690</td>\n",
       "      <td>27919.174454</td>\n",
       "    </tr>\n",
       "    <tr>\n",
       "      <th>2</th>\n",
       "      <td>2</td>\n",
       "      <td>Michel Teló</td>\n",
       "      <td>11690</td>\n",
       "      <td>20399.400000</td>\n",
       "    </tr>\n",
       "    <tr>\n",
       "      <th>3</th>\n",
       "      <td>2</td>\n",
       "      <td>X-Ray Dog</td>\n",
       "      <td>11690</td>\n",
       "      <td>13263.880000</td>\n",
       "    </tr>\n",
       "    <tr>\n",
       "      <th>4</th>\n",
       "      <td>2</td>\n",
       "      <td>80kidz</td>\n",
       "      <td>11690</td>\n",
       "      <td>12580.960000</td>\n",
       "    </tr>\n",
       "    <tr>\n",
       "      <th>5</th>\n",
       "      <td>2</td>\n",
       "      <td>Tangerine Dream</td>\n",
       "      <td>11690</td>\n",
       "      <td>11644.511616</td>\n",
       "    </tr>\n",
       "    <tr>\n",
       "      <th>6</th>\n",
       "      <td>2</td>\n",
       "      <td>Ajda Pekkan</td>\n",
       "      <td>11690</td>\n",
       "      <td>10951.440000</td>\n",
       "    </tr>\n",
       "    <tr>\n",
       "      <th>7</th>\n",
       "      <td>2</td>\n",
       "      <td>Holdcut</td>\n",
       "      <td>11690</td>\n",
       "      <td>10861.960000</td>\n",
       "    </tr>\n",
       "    <tr>\n",
       "      <th>8</th>\n",
       "      <td>2</td>\n",
       "      <td>Άννα Βισση</td>\n",
       "      <td>11690</td>\n",
       "      <td>10478.460000</td>\n",
       "    </tr>\n",
       "    <tr>\n",
       "      <th>9</th>\n",
       "      <td>2</td>\n",
       "      <td>Duran Duran</td>\n",
       "      <td>11690</td>\n",
       "      <td>10369.409696</td>\n",
       "    </tr>\n",
       "  </tbody>\n",
       "</table>\n",
       "</div>"
      ],
      "text/plain": [
       "   uid              iid   r_ui           est\n",
       "0    2     Viking Quest  11690  36668.360000\n",
       "1    2           Thalía  11690  27919.174454\n",
       "2    2      Michel Teló  11690  20399.400000\n",
       "3    2        X-Ray Dog  11690  13263.880000\n",
       "4    2           80kidz  11690  12580.960000\n",
       "5    2  Tangerine Dream  11690  11644.511616\n",
       "6    2      Ajda Pekkan  11690  10951.440000\n",
       "7    2          Holdcut  11690  10861.960000\n",
       "8    2       Άννα Βισση  11690  10478.460000\n",
       "9    2      Duran Duran  11690  10369.409696"
      ]
     },
     "execution_count": 56,
     "metadata": {},
     "output_type": "execute_result"
    }
   ],
   "source": [
    "def coluser_reco(userid , weight):\n",
    "    \n",
    "    items = ua_merge['name'].unique()\n",
    "    test = [[userid, iid, weight] for iid in items]\n",
    "    predictions = algo.test(test)\n",
    "    pred = pd.DataFrame(predictions)\n",
    "    pred = pred.sort_values(by='est', ascending=False).drop('details',axis=1).reset_index(drop=True)\n",
    "    return pred\n",
    "\n",
    "ucf = coluser_reco(2,11690)\n",
    "ucf.head(10)\n"
   ]
  },
  {
   "cell_type": "markdown",
   "metadata": {
    "id": "jQgZGqWfeGiV"
   },
   "source": [
    "\n",
    "\n",
    "<table align=\"left\">\n",
    "    <tr>\n",
    "       <td>\n",
    "            <div align=\"center\", style=\"font-size:150%\">\n",
    "                <font color=\"#21618C\">\n",
    "                    <b>Item-Item based Collabrative Filtering Recommendation System<br></b>\n",
    "                </font>\n",
    "            </div>\n",
    "        </td>\n",
    "    </tr>\n",
    "</table><a id='ii'></a>"
   ]
  },
  {
   "cell_type": "code",
   "execution_count": 57,
   "metadata": {
    "colab": {
     "base_uri": "https://localhost:8080/",
     "height": 204
    },
    "id": "OMyEArAZHjyc",
    "outputId": "c093e4a7-9efd-4285-c53d-d48588b601a0"
   },
   "outputs": [
    {
     "data": {
      "text/html": [
       "<div>\n",
       "<style scoped>\n",
       "    .dataframe tbody tr th:only-of-type {\n",
       "        vertical-align: middle;\n",
       "    }\n",
       "\n",
       "    .dataframe tbody tr th {\n",
       "        vertical-align: top;\n",
       "    }\n",
       "\n",
       "    .dataframe thead th {\n",
       "        text-align: right;\n",
       "    }\n",
       "</style>\n",
       "<table border=\"1\" class=\"dataframe\">\n",
       "  <thead>\n",
       "    <tr style=\"text-align: right;\">\n",
       "      <th></th>\n",
       "      <th>userID</th>\n",
       "      <th>artistID</th>\n",
       "      <th>weight</th>\n",
       "      <th>name</th>\n",
       "    </tr>\n",
       "  </thead>\n",
       "  <tbody>\n",
       "    <tr>\n",
       "      <th>0</th>\n",
       "      <td>2</td>\n",
       "      <td>51</td>\n",
       "      <td>13883</td>\n",
       "      <td>Duran Duran</td>\n",
       "    </tr>\n",
       "    <tr>\n",
       "      <th>1</th>\n",
       "      <td>4</td>\n",
       "      <td>51</td>\n",
       "      <td>228</td>\n",
       "      <td>Duran Duran</td>\n",
       "    </tr>\n",
       "    <tr>\n",
       "      <th>2</th>\n",
       "      <td>27</td>\n",
       "      <td>51</td>\n",
       "      <td>85</td>\n",
       "      <td>Duran Duran</td>\n",
       "    </tr>\n",
       "    <tr>\n",
       "      <th>3</th>\n",
       "      <td>28</td>\n",
       "      <td>51</td>\n",
       "      <td>10</td>\n",
       "      <td>Duran Duran</td>\n",
       "    </tr>\n",
       "    <tr>\n",
       "      <th>4</th>\n",
       "      <td>62</td>\n",
       "      <td>51</td>\n",
       "      <td>528</td>\n",
       "      <td>Duran Duran</td>\n",
       "    </tr>\n",
       "  </tbody>\n",
       "</table>\n",
       "</div>"
      ],
      "text/plain": [
       "   userID  artistID  weight         name\n",
       "0       2        51   13883  Duran Duran\n",
       "1       4        51     228  Duran Duran\n",
       "2      27        51      85  Duran Duran\n",
       "3      28        51      10  Duran Duran\n",
       "4      62        51     528  Duran Duran"
      ]
     },
     "execution_count": 57,
     "metadata": {},
     "output_type": "execute_result"
    }
   ],
   "source": [
    "ua_mergeitem.head()"
   ]
  },
  {
   "cell_type": "code",
   "execution_count": 58,
   "metadata": {
    "colab": {
     "base_uri": "https://localhost:8080/"
    },
    "id": "oPtlrfCnduTO",
    "outputId": "50efb767-0598-43ef-d498-3e991bb9f3f6"
   },
   "outputs": [
    {
     "data": {
      "text/plain": [
       "count     92834.00000\n",
       "mean        745.24393\n",
       "std        3751.32208\n",
       "min           1.00000\n",
       "25%         107.00000\n",
       "50%         260.00000\n",
       "75%         614.00000\n",
       "max      352698.00000\n",
       "Name: weight, dtype: float64"
      ]
     },
     "execution_count": 58,
     "metadata": {},
     "output_type": "execute_result"
    }
   ],
   "source": [
    "ua_mergeitem['weight'].describe()"
   ]
  },
  {
   "cell_type": "code",
   "execution_count": 59,
   "metadata": {
    "colab": {
     "base_uri": "https://localhost:8080/",
     "height": 454
    },
    "id": "gg91KmXsdDjt",
    "outputId": "058723b8-e493-49ef-d273-1a18835df82a"
   },
   "outputs": [
    {
     "data": {
      "text/html": [
       "<div>\n",
       "<style scoped>\n",
       "    .dataframe tbody tr th:only-of-type {\n",
       "        vertical-align: middle;\n",
       "    }\n",
       "\n",
       "    .dataframe tbody tr th {\n",
       "        vertical-align: top;\n",
       "    }\n",
       "\n",
       "    .dataframe thead th {\n",
       "        text-align: right;\n",
       "    }\n",
       "</style>\n",
       "<table border=\"1\" class=\"dataframe\">\n",
       "  <thead>\n",
       "    <tr style=\"text-align: right;\">\n",
       "      <th>name</th>\n",
       "      <th>!!!</th>\n",
       "      <th>!DISTAIN</th>\n",
       "      <th>!deladap</th>\n",
       "      <th>#####</th>\n",
       "      <th>#2 Orchestra</th>\n",
       "      <th>$lick</th>\n",
       "      <th>$lick feat. Six-Fo</th>\n",
       "      <th>(1962-1966)</th>\n",
       "      <th>(Pre) Kingdom</th>\n",
       "      <th>(We Are) Performance</th>\n",
       "      <th>...</th>\n",
       "      <th>티아라</th>\n",
       "      <th>현아</th>\n",
       "      <th>ＬｕＬｕ</th>\n",
       "      <th>ＭＡＮＮＥＱＵＩＮ</th>\n",
       "      <th>ＰＥＲＥＳＴＲＯＩＫＡ</th>\n",
       "      <th>ＲＥＤ</th>\n",
       "      <th>ＶａｎｅｓｓＡ</th>\n",
       "      <th>ｂｏｏｇｉｅｍａｎ</th>\n",
       "      <th>ｂｏｒｎ</th>\n",
       "      <th>ｍａｃｈｉｎｅ</th>\n",
       "    </tr>\n",
       "    <tr>\n",
       "      <th>userID</th>\n",
       "      <th></th>\n",
       "      <th></th>\n",
       "      <th></th>\n",
       "      <th></th>\n",
       "      <th></th>\n",
       "      <th></th>\n",
       "      <th></th>\n",
       "      <th></th>\n",
       "      <th></th>\n",
       "      <th></th>\n",
       "      <th></th>\n",
       "      <th></th>\n",
       "      <th></th>\n",
       "      <th></th>\n",
       "      <th></th>\n",
       "      <th></th>\n",
       "      <th></th>\n",
       "      <th></th>\n",
       "      <th></th>\n",
       "      <th></th>\n",
       "      <th></th>\n",
       "    </tr>\n",
       "  </thead>\n",
       "  <tbody>\n",
       "    <tr>\n",
       "      <th>2</th>\n",
       "      <td>0.0</td>\n",
       "      <td>0.0</td>\n",
       "      <td>0.0</td>\n",
       "      <td>0.0</td>\n",
       "      <td>0.0</td>\n",
       "      <td>0.0</td>\n",
       "      <td>0.0</td>\n",
       "      <td>0.0</td>\n",
       "      <td>0.0</td>\n",
       "      <td>0.0</td>\n",
       "      <td>...</td>\n",
       "      <td>0.0</td>\n",
       "      <td>0.0</td>\n",
       "      <td>0.0</td>\n",
       "      <td>0.0</td>\n",
       "      <td>0.0</td>\n",
       "      <td>0.0</td>\n",
       "      <td>0.0</td>\n",
       "      <td>0.0</td>\n",
       "      <td>0.0</td>\n",
       "      <td>0.0</td>\n",
       "    </tr>\n",
       "    <tr>\n",
       "      <th>3</th>\n",
       "      <td>0.0</td>\n",
       "      <td>0.0</td>\n",
       "      <td>0.0</td>\n",
       "      <td>0.0</td>\n",
       "      <td>0.0</td>\n",
       "      <td>0.0</td>\n",
       "      <td>0.0</td>\n",
       "      <td>0.0</td>\n",
       "      <td>0.0</td>\n",
       "      <td>0.0</td>\n",
       "      <td>...</td>\n",
       "      <td>0.0</td>\n",
       "      <td>0.0</td>\n",
       "      <td>0.0</td>\n",
       "      <td>0.0</td>\n",
       "      <td>0.0</td>\n",
       "      <td>0.0</td>\n",
       "      <td>0.0</td>\n",
       "      <td>0.0</td>\n",
       "      <td>0.0</td>\n",
       "      <td>0.0</td>\n",
       "    </tr>\n",
       "    <tr>\n",
       "      <th>4</th>\n",
       "      <td>0.0</td>\n",
       "      <td>0.0</td>\n",
       "      <td>0.0</td>\n",
       "      <td>0.0</td>\n",
       "      <td>0.0</td>\n",
       "      <td>0.0</td>\n",
       "      <td>0.0</td>\n",
       "      <td>0.0</td>\n",
       "      <td>0.0</td>\n",
       "      <td>0.0</td>\n",
       "      <td>...</td>\n",
       "      <td>0.0</td>\n",
       "      <td>0.0</td>\n",
       "      <td>0.0</td>\n",
       "      <td>0.0</td>\n",
       "      <td>0.0</td>\n",
       "      <td>0.0</td>\n",
       "      <td>0.0</td>\n",
       "      <td>0.0</td>\n",
       "      <td>0.0</td>\n",
       "      <td>0.0</td>\n",
       "    </tr>\n",
       "    <tr>\n",
       "      <th>5</th>\n",
       "      <td>0.0</td>\n",
       "      <td>0.0</td>\n",
       "      <td>0.0</td>\n",
       "      <td>0.0</td>\n",
       "      <td>0.0</td>\n",
       "      <td>0.0</td>\n",
       "      <td>0.0</td>\n",
       "      <td>0.0</td>\n",
       "      <td>0.0</td>\n",
       "      <td>0.0</td>\n",
       "      <td>...</td>\n",
       "      <td>0.0</td>\n",
       "      <td>0.0</td>\n",
       "      <td>0.0</td>\n",
       "      <td>0.0</td>\n",
       "      <td>0.0</td>\n",
       "      <td>0.0</td>\n",
       "      <td>0.0</td>\n",
       "      <td>0.0</td>\n",
       "      <td>0.0</td>\n",
       "      <td>0.0</td>\n",
       "    </tr>\n",
       "    <tr>\n",
       "      <th>6</th>\n",
       "      <td>0.0</td>\n",
       "      <td>0.0</td>\n",
       "      <td>0.0</td>\n",
       "      <td>0.0</td>\n",
       "      <td>0.0</td>\n",
       "      <td>0.0</td>\n",
       "      <td>0.0</td>\n",
       "      <td>0.0</td>\n",
       "      <td>0.0</td>\n",
       "      <td>0.0</td>\n",
       "      <td>...</td>\n",
       "      <td>0.0</td>\n",
       "      <td>0.0</td>\n",
       "      <td>0.0</td>\n",
       "      <td>0.0</td>\n",
       "      <td>0.0</td>\n",
       "      <td>0.0</td>\n",
       "      <td>0.0</td>\n",
       "      <td>0.0</td>\n",
       "      <td>0.0</td>\n",
       "      <td>0.0</td>\n",
       "    </tr>\n",
       "  </tbody>\n",
       "</table>\n",
       "<p>5 rows × 17632 columns</p>\n",
       "</div>"
      ],
      "text/plain": [
       "name    !!!  !DISTAIN  !deladap  #####  #2 Orchestra  $lick  \\\n",
       "userID                                                        \n",
       "2       0.0       0.0       0.0    0.0           0.0    0.0   \n",
       "3       0.0       0.0       0.0    0.0           0.0    0.0   \n",
       "4       0.0       0.0       0.0    0.0           0.0    0.0   \n",
       "5       0.0       0.0       0.0    0.0           0.0    0.0   \n",
       "6       0.0       0.0       0.0    0.0           0.0    0.0   \n",
       "\n",
       "name    $lick feat. Six-Fo  (1962-1966)  (Pre) Kingdom  (We Are) Performance  \\\n",
       "userID                                                                         \n",
       "2                      0.0          0.0            0.0                   0.0   \n",
       "3                      0.0          0.0            0.0                   0.0   \n",
       "4                      0.0          0.0            0.0                   0.0   \n",
       "5                      0.0          0.0            0.0                   0.0   \n",
       "6                      0.0          0.0            0.0                   0.0   \n",
       "\n",
       "name    ...  티아라   현아  ＬｕＬｕ  ＭＡＮＮＥＱＵＩＮ  ＰＥＲＥＳＴＲＯＩＫＡ  ＲＥＤ  ＶａｎｅｓｓＡ  ｂｏｏｇｉｅｍａｎ  \\\n",
       "userID  ...                                                                    \n",
       "2       ...  0.0  0.0   0.0        0.0          0.0  0.0      0.0        0.0   \n",
       "3       ...  0.0  0.0   0.0        0.0          0.0  0.0      0.0        0.0   \n",
       "4       ...  0.0  0.0   0.0        0.0          0.0  0.0      0.0        0.0   \n",
       "5       ...  0.0  0.0   0.0        0.0          0.0  0.0      0.0        0.0   \n",
       "6       ...  0.0  0.0   0.0        0.0          0.0  0.0      0.0        0.0   \n",
       "\n",
       "name    ｂｏｒｎ  ｍａｃｈｉｎｅ  \n",
       "userID                 \n",
       "2        0.0      0.0  \n",
       "3        0.0      0.0  \n",
       "4        0.0      0.0  \n",
       "5        0.0      0.0  \n",
       "6        0.0      0.0  \n",
       "\n",
       "[5 rows x 17632 columns]"
      ]
     },
     "execution_count": 59,
     "metadata": {},
     "output_type": "execute_result"
    }
   ],
   "source": [
    "ua_pivot = ua_mergeitem.pivot(index = 'userID',columns='name', values = 'weight').fillna(0)\n",
    "ua_pivot.head()"
   ]
  },
  {
   "cell_type": "code",
   "execution_count": 60,
   "metadata": {
    "colab": {
     "base_uri": "https://localhost:8080/",
     "height": 471
    },
    "id": "GVxPTppufMWB",
    "outputId": "1409cd47-cf2c-4271-d6ab-cc9c3be980ac"
   },
   "outputs": [
    {
     "data": {
      "text/html": [
       "<div>\n",
       "<style scoped>\n",
       "    .dataframe tbody tr th:only-of-type {\n",
       "        vertical-align: middle;\n",
       "    }\n",
       "\n",
       "    .dataframe tbody tr th {\n",
       "        vertical-align: top;\n",
       "    }\n",
       "\n",
       "    .dataframe thead th {\n",
       "        text-align: right;\n",
       "    }\n",
       "</style>\n",
       "<table border=\"1\" class=\"dataframe\">\n",
       "  <thead>\n",
       "    <tr style=\"text-align: right;\">\n",
       "      <th>name</th>\n",
       "      <th>!!!</th>\n",
       "      <th>!DISTAIN</th>\n",
       "      <th>!deladap</th>\n",
       "      <th>#####</th>\n",
       "      <th>#2 Orchestra</th>\n",
       "      <th>$lick</th>\n",
       "      <th>$lick feat. Six-Fo</th>\n",
       "      <th>(1962-1966)</th>\n",
       "      <th>(Pre) Kingdom</th>\n",
       "      <th>(We Are) Performance</th>\n",
       "      <th>...</th>\n",
       "      <th>티아라</th>\n",
       "      <th>현아</th>\n",
       "      <th>ＬｕＬｕ</th>\n",
       "      <th>ＭＡＮＮＥＱＵＩＮ</th>\n",
       "      <th>ＰＥＲＥＳＴＲＯＩＫＡ</th>\n",
       "      <th>ＲＥＤ</th>\n",
       "      <th>ＶａｎｅｓｓＡ</th>\n",
       "      <th>ｂｏｏｇｉｅｍａｎ</th>\n",
       "      <th>ｂｏｒｎ</th>\n",
       "      <th>ｍａｃｈｉｎｅ</th>\n",
       "    </tr>\n",
       "    <tr>\n",
       "      <th>name</th>\n",
       "      <th></th>\n",
       "      <th></th>\n",
       "      <th></th>\n",
       "      <th></th>\n",
       "      <th></th>\n",
       "      <th></th>\n",
       "      <th></th>\n",
       "      <th></th>\n",
       "      <th></th>\n",
       "      <th></th>\n",
       "      <th></th>\n",
       "      <th></th>\n",
       "      <th></th>\n",
       "      <th></th>\n",
       "      <th></th>\n",
       "      <th></th>\n",
       "      <th></th>\n",
       "      <th></th>\n",
       "      <th></th>\n",
       "      <th></th>\n",
       "      <th></th>\n",
       "    </tr>\n",
       "  </thead>\n",
       "  <tbody>\n",
       "    <tr>\n",
       "      <th>!!!</th>\n",
       "      <td>1.0</td>\n",
       "      <td>0.0</td>\n",
       "      <td>0.0</td>\n",
       "      <td>0.0</td>\n",
       "      <td>0.0</td>\n",
       "      <td>0.0</td>\n",
       "      <td>0.0</td>\n",
       "      <td>0.0</td>\n",
       "      <td>0.0</td>\n",
       "      <td>0.0</td>\n",
       "      <td>...</td>\n",
       "      <td>0.0</td>\n",
       "      <td>0.0</td>\n",
       "      <td>0.0</td>\n",
       "      <td>0.0</td>\n",
       "      <td>0.0</td>\n",
       "      <td>0.0</td>\n",
       "      <td>0.0</td>\n",
       "      <td>0.0</td>\n",
       "      <td>0.0</td>\n",
       "      <td>0.0</td>\n",
       "    </tr>\n",
       "    <tr>\n",
       "      <th>!DISTAIN</th>\n",
       "      <td>0.0</td>\n",
       "      <td>1.0</td>\n",
       "      <td>0.0</td>\n",
       "      <td>0.0</td>\n",
       "      <td>0.0</td>\n",
       "      <td>0.0</td>\n",
       "      <td>0.0</td>\n",
       "      <td>0.0</td>\n",
       "      <td>0.0</td>\n",
       "      <td>0.0</td>\n",
       "      <td>...</td>\n",
       "      <td>0.0</td>\n",
       "      <td>0.0</td>\n",
       "      <td>0.0</td>\n",
       "      <td>0.0</td>\n",
       "      <td>0.0</td>\n",
       "      <td>0.0</td>\n",
       "      <td>0.0</td>\n",
       "      <td>0.0</td>\n",
       "      <td>0.0</td>\n",
       "      <td>0.0</td>\n",
       "    </tr>\n",
       "    <tr>\n",
       "      <th>!deladap</th>\n",
       "      <td>0.0</td>\n",
       "      <td>0.0</td>\n",
       "      <td>1.0</td>\n",
       "      <td>0.0</td>\n",
       "      <td>0.0</td>\n",
       "      <td>0.0</td>\n",
       "      <td>0.0</td>\n",
       "      <td>0.0</td>\n",
       "      <td>0.0</td>\n",
       "      <td>0.0</td>\n",
       "      <td>...</td>\n",
       "      <td>0.0</td>\n",
       "      <td>0.0</td>\n",
       "      <td>0.0</td>\n",
       "      <td>0.0</td>\n",
       "      <td>0.0</td>\n",
       "      <td>0.0</td>\n",
       "      <td>0.0</td>\n",
       "      <td>0.0</td>\n",
       "      <td>0.0</td>\n",
       "      <td>0.0</td>\n",
       "    </tr>\n",
       "    <tr>\n",
       "      <th>#####</th>\n",
       "      <td>0.0</td>\n",
       "      <td>0.0</td>\n",
       "      <td>0.0</td>\n",
       "      <td>1.0</td>\n",
       "      <td>0.0</td>\n",
       "      <td>0.0</td>\n",
       "      <td>0.0</td>\n",
       "      <td>0.0</td>\n",
       "      <td>0.0</td>\n",
       "      <td>0.0</td>\n",
       "      <td>...</td>\n",
       "      <td>0.0</td>\n",
       "      <td>0.0</td>\n",
       "      <td>0.0</td>\n",
       "      <td>0.0</td>\n",
       "      <td>0.0</td>\n",
       "      <td>0.0</td>\n",
       "      <td>0.0</td>\n",
       "      <td>0.0</td>\n",
       "      <td>0.0</td>\n",
       "      <td>0.0</td>\n",
       "    </tr>\n",
       "    <tr>\n",
       "      <th>#2 Orchestra</th>\n",
       "      <td>0.0</td>\n",
       "      <td>0.0</td>\n",
       "      <td>0.0</td>\n",
       "      <td>0.0</td>\n",
       "      <td>1.0</td>\n",
       "      <td>0.0</td>\n",
       "      <td>0.0</td>\n",
       "      <td>0.0</td>\n",
       "      <td>0.0</td>\n",
       "      <td>0.0</td>\n",
       "      <td>...</td>\n",
       "      <td>0.0</td>\n",
       "      <td>0.0</td>\n",
       "      <td>0.0</td>\n",
       "      <td>0.0</td>\n",
       "      <td>0.0</td>\n",
       "      <td>0.0</td>\n",
       "      <td>0.0</td>\n",
       "      <td>0.0</td>\n",
       "      <td>0.0</td>\n",
       "      <td>0.0</td>\n",
       "    </tr>\n",
       "  </tbody>\n",
       "</table>\n",
       "<p>5 rows × 17632 columns</p>\n",
       "</div>"
      ],
      "text/plain": [
       "name          !!!  !DISTAIN  !deladap  #####  #2 Orchestra  $lick  \\\n",
       "name                                                                \n",
       "!!!           1.0       0.0       0.0    0.0           0.0    0.0   \n",
       "!DISTAIN      0.0       1.0       0.0    0.0           0.0    0.0   \n",
       "!deladap      0.0       0.0       1.0    0.0           0.0    0.0   \n",
       "#####         0.0       0.0       0.0    1.0           0.0    0.0   \n",
       "#2 Orchestra  0.0       0.0       0.0    0.0           1.0    0.0   \n",
       "\n",
       "name          $lick feat. Six-Fo  (1962-1966)  (Pre) Kingdom  \\\n",
       "name                                                           \n",
       "!!!                          0.0          0.0            0.0   \n",
       "!DISTAIN                     0.0          0.0            0.0   \n",
       "!deladap                     0.0          0.0            0.0   \n",
       "#####                        0.0          0.0            0.0   \n",
       "#2 Orchestra                 0.0          0.0            0.0   \n",
       "\n",
       "name          (We Are) Performance  ...  티아라   현아  ＬｕＬｕ  ＭＡＮＮＥＱＵＩＮ  \\\n",
       "name                                ...                              \n",
       "!!!                            0.0  ...  0.0  0.0   0.0        0.0   \n",
       "!DISTAIN                       0.0  ...  0.0  0.0   0.0        0.0   \n",
       "!deladap                       0.0  ...  0.0  0.0   0.0        0.0   \n",
       "#####                          0.0  ...  0.0  0.0   0.0        0.0   \n",
       "#2 Orchestra                   0.0  ...  0.0  0.0   0.0        0.0   \n",
       "\n",
       "name          ＰＥＲＥＳＴＲＯＩＫＡ  ＲＥＤ  ＶａｎｅｓｓＡ  ｂｏｏｇｉｅｍａｎ  ｂｏｒｎ  ｍａｃｈｉｎｅ  \n",
       "name                                                               \n",
       "!!!                   0.0  0.0      0.0        0.0   0.0      0.0  \n",
       "!DISTAIN              0.0  0.0      0.0        0.0   0.0      0.0  \n",
       "!deladap              0.0  0.0      0.0        0.0   0.0      0.0  \n",
       "#####                 0.0  0.0      0.0        0.0   0.0      0.0  \n",
       "#2 Orchestra          0.0  0.0      0.0        0.0   0.0      0.0  \n",
       "\n",
       "[5 rows x 17632 columns]"
      ]
     },
     "execution_count": 60,
     "metadata": {},
     "output_type": "execute_result"
    }
   ],
   "source": [
    "scaler1 = MinMaxScaler()\n",
    "ua_pivot1 = pd.DataFrame(scaler1.fit_transform(ua_pivot)).T\n",
    "ua_sparse = sparse.csr_matrix(ua_pivot1.values)\n",
    "corrmatrix = pd.DataFrame(cosine_similarity(ua_sparse),index=ua_pivot.columns,columns=ua_pivot.columns)\n",
    "corrmatrix.head()"
   ]
  },
  {
   "cell_type": "code",
   "execution_count": 61,
   "metadata": {
    "id": "-62bX7hVa1dj"
   },
   "outputs": [],
   "source": [
    "def get_similar(artist_name,weight):\n",
    "    similar_score = corrmatrix[artist_name]*(weight-745)\n",
    "    similar_score = similar_score.sort_values(ascending=False)\n",
    "    #print(type(similar_ratings))\n",
    "    return similar_score"
   ]
  },
  {
   "cell_type": "code",
   "execution_count": 62,
   "metadata": {
    "id": "UDxEO_HpxOiw"
   },
   "outputs": [],
   "source": [
    "kl = [('Duran Duran',13883),('Peste Noire',100),('Mortifera',600)]\n",
    "similar_scores = pd.DataFrame()\n",
    "for artist,weight in kl:\n",
    "    similar_scores = similar_scores.append(get_similar(artist,weight),ignore_index = True)"
   ]
  },
  {
   "cell_type": "code",
   "execution_count": 63,
   "metadata": {
    "colab": {
     "base_uri": "https://localhost:8080/"
    },
    "id": "kxVm7pLFxOr-",
    "outputId": "6fb23182-d929-4517-8471-c397682b90e8"
   },
   "outputs": [
    {
     "data": {
      "text/plain": [
       "Duran Duran          13138.000000\n",
       "Wham!                11239.577160\n",
       "Spandau Ballet       11223.575609\n",
       "Arcadia              10898.843976\n",
       "The Power Station    10781.918296\n",
       "Andy Taylor          10543.723504\n",
       "Private              10537.067878\n",
       "Nephew               10532.569996\n",
       "TV-2                 10410.949367\n",
       "George Michael       10328.588988\n",
       "dtype: float64"
      ]
     },
     "execution_count": 63,
     "metadata": {},
     "output_type": "execute_result"
    }
   ],
   "source": [
    "similar_scores.sum().sort_values(ascending=False).head(10)"
   ]
  },
  {
   "cell_type": "markdown",
   "metadata": {
    "id": "SHmn0b7shApu"
   },
   "source": [
    "<table align=\"left\">\n",
    "    <tr>\n",
    "        <td width=\"15%\">\n",
    "            <img src=\"smallicon.png\">\n",
    "        </td>\n",
    "        <td>\n",
    "            <div align=\"center\", style=\"font-size:190%\">\n",
    "                <font color=\"#21618C\">\n",
    "                    <b>Mood-Based Recommendation System<br></b>\n",
    "                </font>\n",
    "            </div>\n",
    "        </td>\n",
    "    </tr>\n",
    "</table><a id='mood'></a>"
   ]
  },
  {
   "cell_type": "markdown",
   "metadata": {
    "id": "4bP8R-2HuFoV"
   },
   "source": [
    "Suppose past users who says they were sad, the recommendation system will recommend them some random artists. So if the users likes or listen to those suggested artists again and again the recommendation system will record the number of times heard, so when a new user says he is sad, then the recommendation system will recommend those songs."
   ]
  },
  {
   "cell_type": "code",
   "execution_count": 64,
   "metadata": {
    "colab": {
     "base_uri": "https://localhost:8080/",
     "height": 204
    },
    "id": "6Baau4nSv0Wa",
    "outputId": "c634d97e-e58a-4476-853b-e83653071993"
   },
   "outputs": [
    {
     "data": {
      "text/html": [
       "<div>\n",
       "<style scoped>\n",
       "    .dataframe tbody tr th:only-of-type {\n",
       "        vertical-align: middle;\n",
       "    }\n",
       "\n",
       "    .dataframe tbody tr th {\n",
       "        vertical-align: top;\n",
       "    }\n",
       "\n",
       "    .dataframe thead th {\n",
       "        text-align: right;\n",
       "    }\n",
       "</style>\n",
       "<table border=\"1\" class=\"dataframe\">\n",
       "  <thead>\n",
       "    <tr style=\"text-align: right;\">\n",
       "      <th></th>\n",
       "      <th>userID</th>\n",
       "      <th>artistID</th>\n",
       "      <th>weight</th>\n",
       "      <th>name</th>\n",
       "    </tr>\n",
       "  </thead>\n",
       "  <tbody>\n",
       "    <tr>\n",
       "      <th>0</th>\n",
       "      <td>1346</td>\n",
       "      <td>531</td>\n",
       "      <td>254</td>\n",
       "      <td>Taio Cruz</td>\n",
       "    </tr>\n",
       "    <tr>\n",
       "      <th>1</th>\n",
       "      <td>95</td>\n",
       "      <td>1037</td>\n",
       "      <td>189</td>\n",
       "      <td>Nicki Minaj</td>\n",
       "    </tr>\n",
       "    <tr>\n",
       "      <th>2</th>\n",
       "      <td>1360</td>\n",
       "      <td>945</td>\n",
       "      <td>130</td>\n",
       "      <td>Journey</td>\n",
       "    </tr>\n",
       "    <tr>\n",
       "      <th>3</th>\n",
       "      <td>1408</td>\n",
       "      <td>14372</td>\n",
       "      <td>1</td>\n",
       "      <td>Chad VanGaalen</td>\n",
       "    </tr>\n",
       "    <tr>\n",
       "      <th>4</th>\n",
       "      <td>1403</td>\n",
       "      <td>3749</td>\n",
       "      <td>339</td>\n",
       "      <td>Gavin DeGraw</td>\n",
       "    </tr>\n",
       "  </tbody>\n",
       "</table>\n",
       "</div>"
      ],
      "text/plain": [
       "   userID  artistID  weight            name\n",
       "0    1346       531     254       Taio Cruz\n",
       "1      95      1037     189     Nicki Minaj\n",
       "2    1360       945     130         Journey\n",
       "3    1408     14372       1  Chad VanGaalen\n",
       "4    1403      3749     339    Gavin DeGraw"
      ]
     },
     "execution_count": 64,
     "metadata": {},
     "output_type": "execute_result"
    }
   ],
   "source": [
    "random_artists = ua_merge.sample(20000).reset_index(drop = True)\n",
    "random_artists.head()"
   ]
  },
  {
   "cell_type": "code",
   "execution_count": 65,
   "metadata": {
    "colab": {
     "base_uri": "https://localhost:8080/"
    },
    "id": "dbqRUyycxfYx",
    "outputId": "bf48c70d-04c2-4a29-85c2-81fda6c31296"
   },
   "outputs": [
    {
     "data": {
      "text/plain": [
       "count     20000.000000\n",
       "mean        734.882350\n",
       "std        3672.634943\n",
       "min           1.000000\n",
       "25%         106.000000\n",
       "50%         255.000000\n",
       "75%         600.000000\n",
       "max      227829.000000\n",
       "Name: weight, dtype: float64"
      ]
     },
     "execution_count": 65,
     "metadata": {},
     "output_type": "execute_result"
    }
   ],
   "source": [
    "random_artists['weight'].describe()"
   ]
  },
  {
   "cell_type": "code",
   "execution_count": 66,
   "metadata": {
    "id": "P3YE6XVrxQrC"
   },
   "outputs": [],
   "source": [
    "reader1 = Reader(rating_scale=(1, 320725))\n",
    "data1 = Dataset.load_from_df(random_artists[[\"userID\", \"name\", \"weight\"]], reader1)\n",
    "trainset1 = data1.build_full_trainset()"
   ]
  },
  {
   "cell_type": "code",
   "execution_count": 67,
   "metadata": {
    "colab": {
     "base_uri": "https://localhost:8080/"
    },
    "id": "M3NDNIQWxt6V",
    "outputId": "a404366c-357c-44b1-f02f-179c9f1ee0f0"
   },
   "outputs": [
    {
     "name": "stdout",
     "output_type": "stream",
     "text": [
      "Computing the cosine similarity matrix...\n",
      "Done computing similarity matrix.\n"
     ]
    },
    {
     "data": {
      "text/plain": [
       "<surprise.prediction_algorithms.knns.KNNWithMeans at 0x22310e968e0>"
      ]
     },
     "execution_count": 67,
     "metadata": {},
     "output_type": "execute_result"
    }
   ],
   "source": [
    "sim_options = {\n",
    "    \"name\": \"cosine\",\n",
    "    \"user_based\": True, \n",
    "    'min_support':3,\n",
    "    'k': 100\n",
    "}\n",
    "algo_mood = KNNWithMeans(sim_options=sim_options)\n",
    "algo_mood.fit(trainset1)"
   ]
  },
  {
   "cell_type": "code",
   "execution_count": 68,
   "metadata": {
    "colab": {
     "base_uri": "https://localhost:8080/",
     "height": 359
    },
    "id": "sXbaa333bYRr",
    "outputId": "24a7cb45-a127-410d-f461-38156d352671"
   },
   "outputs": [
    {
     "data": {
      "text/html": [
       "<div>\n",
       "<style scoped>\n",
       "    .dataframe tbody tr th:only-of-type {\n",
       "        vertical-align: middle;\n",
       "    }\n",
       "\n",
       "    .dataframe tbody tr th {\n",
       "        vertical-align: top;\n",
       "    }\n",
       "\n",
       "    .dataframe thead th {\n",
       "        text-align: right;\n",
       "    }\n",
       "</style>\n",
       "<table border=\"1\" class=\"dataframe\">\n",
       "  <thead>\n",
       "    <tr style=\"text-align: right;\">\n",
       "      <th></th>\n",
       "      <th>uid</th>\n",
       "      <th>iid</th>\n",
       "      <th>r_ui</th>\n",
       "      <th>est</th>\n",
       "    </tr>\n",
       "  </thead>\n",
       "  <tbody>\n",
       "    <tr>\n",
       "      <th>0</th>\n",
       "      <td>2</td>\n",
       "      <td>Duran Duran</td>\n",
       "      <td>11690</td>\n",
       "      <td>8623.360239</td>\n",
       "    </tr>\n",
       "    <tr>\n",
       "      <th>1</th>\n",
       "      <td>2</td>\n",
       "      <td>Siouxsie and the Banshees</td>\n",
       "      <td>11690</td>\n",
       "      <td>5612.014423</td>\n",
       "    </tr>\n",
       "    <tr>\n",
       "      <th>2</th>\n",
       "      <td>2</td>\n",
       "      <td>Nine Inch Nails</td>\n",
       "      <td>11690</td>\n",
       "      <td>4418.343590</td>\n",
       "    </tr>\n",
       "    <tr>\n",
       "      <th>3</th>\n",
       "      <td>2</td>\n",
       "      <td>30 Seconds to Mars</td>\n",
       "      <td>11690</td>\n",
       "      <td>4248.343590</td>\n",
       "    </tr>\n",
       "    <tr>\n",
       "      <th>4</th>\n",
       "      <td>2</td>\n",
       "      <td>Dolly Parton</td>\n",
       "      <td>11690</td>\n",
       "      <td>3828.014423</td>\n",
       "    </tr>\n",
       "    <tr>\n",
       "      <th>5</th>\n",
       "      <td>2</td>\n",
       "      <td>Pet Shop Boys</td>\n",
       "      <td>11690</td>\n",
       "      <td>3752.014423</td>\n",
       "    </tr>\n",
       "    <tr>\n",
       "      <th>6</th>\n",
       "      <td>2</td>\n",
       "      <td>Röyksopp</td>\n",
       "      <td>11690</td>\n",
       "      <td>3644.000000</td>\n",
       "    </tr>\n",
       "    <tr>\n",
       "      <th>7</th>\n",
       "      <td>2</td>\n",
       "      <td>U2</td>\n",
       "      <td>11690</td>\n",
       "      <td>3614.343590</td>\n",
       "    </tr>\n",
       "    <tr>\n",
       "      <th>8</th>\n",
       "      <td>2</td>\n",
       "      <td>Coldplay</td>\n",
       "      <td>11690</td>\n",
       "      <td>3579.000000</td>\n",
       "    </tr>\n",
       "    <tr>\n",
       "      <th>9</th>\n",
       "      <td>2</td>\n",
       "      <td>Blonde Redhead</td>\n",
       "      <td>11690</td>\n",
       "      <td>3504.014423</td>\n",
       "    </tr>\n",
       "  </tbody>\n",
       "</table>\n",
       "</div>"
      ],
      "text/plain": [
       "   uid                        iid   r_ui          est\n",
       "0    2                Duran Duran  11690  8623.360239\n",
       "1    2  Siouxsie and the Banshees  11690  5612.014423\n",
       "2    2            Nine Inch Nails  11690  4418.343590\n",
       "3    2         30 Seconds to Mars  11690  4248.343590\n",
       "4    2               Dolly Parton  11690  3828.014423\n",
       "5    2              Pet Shop Boys  11690  3752.014423\n",
       "6    2                   Röyksopp  11690  3644.000000\n",
       "7    2                         U2  11690  3614.343590\n",
       "8    2                   Coldplay  11690  3579.000000\n",
       "9    2             Blonde Redhead  11690  3504.014423"
      ]
     },
     "execution_count": 68,
     "metadata": {},
     "output_type": "execute_result"
    }
   ],
   "source": [
    "def mood_reco(userid , weight):\n",
    "    \n",
    "    items = random_artists['name'].unique()\n",
    "    test = [[userid, iid, weight] for iid in items]\n",
    "    predictions = algo_mood.test(test)\n",
    "    pred = pd.DataFrame(predictions)\n",
    "    pred = pred.sort_values(by='est', ascending=False).drop('details',axis=1).reset_index(drop=True)\n",
    "    return pred\n",
    "\n",
    "mr = mood_reco(2,11690)\n",
    "mr.head(10)"
   ]
  },
  {
   "cell_type": "markdown",
   "metadata": {
    "id": "4EC-G6cZuHdn"
   },
   "source": [
    "\n",
    "<table align=\"left\">\n",
    "    <tr>\n",
    "        <td width=\"15%\">\n",
    "            <img src=\"smallicon.png\">\n",
    "        </td>\n",
    "        <td>\n",
    "            <div align=\"center\", style=\"font-size:190%\">\n",
    "                <font color=\"#21618C\">\n",
    "                    <b>Content Based Recommendation System<br></b>\n",
    "                </font>\n",
    "            </div>\n",
    "        </td>\n",
    "    </tr>\n",
    "</table><a id='cont'></a>"
   ]
  },
  {
   "cell_type": "code",
   "execution_count": 69,
   "metadata": {
    "colab": {
     "base_uri": "https://localhost:8080/",
     "height": 204
    },
    "id": "AsqeP1HquL37",
    "outputId": "8a2fb9c3-7300-4b55-faff-6ed27d703c49"
   },
   "outputs": [
    {
     "data": {
      "text/html": [
       "<div>\n",
       "<style scoped>\n",
       "    .dataframe tbody tr th:only-of-type {\n",
       "        vertical-align: middle;\n",
       "    }\n",
       "\n",
       "    .dataframe tbody tr th {\n",
       "        vertical-align: top;\n",
       "    }\n",
       "\n",
       "    .dataframe thead th {\n",
       "        text-align: right;\n",
       "    }\n",
       "</style>\n",
       "<table border=\"1\" class=\"dataframe\">\n",
       "  <thead>\n",
       "    <tr style=\"text-align: right;\">\n",
       "      <th></th>\n",
       "      <th>artistID</th>\n",
       "      <th>tagID</th>\n",
       "    </tr>\n",
       "  </thead>\n",
       "  <tbody>\n",
       "    <tr>\n",
       "      <th>0</th>\n",
       "      <td>52</td>\n",
       "      <td>13</td>\n",
       "    </tr>\n",
       "    <tr>\n",
       "      <th>1</th>\n",
       "      <td>52</td>\n",
       "      <td>15</td>\n",
       "    </tr>\n",
       "    <tr>\n",
       "      <th>2</th>\n",
       "      <td>52</td>\n",
       "      <td>18</td>\n",
       "    </tr>\n",
       "    <tr>\n",
       "      <th>3</th>\n",
       "      <td>52</td>\n",
       "      <td>21</td>\n",
       "    </tr>\n",
       "    <tr>\n",
       "      <th>4</th>\n",
       "      <td>52</td>\n",
       "      <td>41</td>\n",
       "    </tr>\n",
       "  </tbody>\n",
       "</table>\n",
       "</div>"
      ],
      "text/plain": [
       "   artistID  tagID\n",
       "0        52     13\n",
       "1        52     15\n",
       "2        52     18\n",
       "3        52     21\n",
       "4        52     41"
      ]
     },
     "execution_count": 69,
     "metadata": {},
     "output_type": "execute_result"
    }
   ],
   "source": [
    "ut = user_tags.drop(['year','userID'],axis =1)\n",
    "ut.head()"
   ]
  },
  {
   "cell_type": "code",
   "execution_count": 70,
   "metadata": {
    "colab": {
     "base_uri": "https://localhost:8080/",
     "height": 204
    },
    "id": "HojvB3YHuXS2",
    "outputId": "22e9e838-8ca6-4234-e7c3-e5144d49999c"
   },
   "outputs": [
    {
     "data": {
      "text/html": [
       "<div>\n",
       "<style scoped>\n",
       "    .dataframe tbody tr th:only-of-type {\n",
       "        vertical-align: middle;\n",
       "    }\n",
       "\n",
       "    .dataframe tbody tr th {\n",
       "        vertical-align: top;\n",
       "    }\n",
       "\n",
       "    .dataframe thead th {\n",
       "        text-align: right;\n",
       "    }\n",
       "</style>\n",
       "<table border=\"1\" class=\"dataframe\">\n",
       "  <thead>\n",
       "    <tr style=\"text-align: right;\">\n",
       "      <th></th>\n",
       "      <th>artistID</th>\n",
       "      <th>name</th>\n",
       "    </tr>\n",
       "  </thead>\n",
       "  <tbody>\n",
       "    <tr>\n",
       "      <th>0</th>\n",
       "      <td>1</td>\n",
       "      <td>MALICE MIZER</td>\n",
       "    </tr>\n",
       "    <tr>\n",
       "      <th>1</th>\n",
       "      <td>2</td>\n",
       "      <td>Diary of Dreams</td>\n",
       "    </tr>\n",
       "    <tr>\n",
       "      <th>2</th>\n",
       "      <td>3</td>\n",
       "      <td>Carpathian Forest</td>\n",
       "    </tr>\n",
       "    <tr>\n",
       "      <th>3</th>\n",
       "      <td>4</td>\n",
       "      <td>Moi dix Mois</td>\n",
       "    </tr>\n",
       "    <tr>\n",
       "      <th>4</th>\n",
       "      <td>5</td>\n",
       "      <td>Bella Morte</td>\n",
       "    </tr>\n",
       "  </tbody>\n",
       "</table>\n",
       "</div>"
      ],
      "text/plain": [
       "   artistID               name\n",
       "0         1       MALICE MIZER\n",
       "1         2    Diary of Dreams\n",
       "2         3  Carpathian Forest\n",
       "3         4       Moi dix Mois\n",
       "4         5        Bella Morte"
      ]
     },
     "execution_count": 70,
     "metadata": {},
     "output_type": "execute_result"
    }
   ],
   "source": [
    "artists.head()"
   ]
  },
  {
   "cell_type": "code",
   "execution_count": 71,
   "metadata": {
    "colab": {
     "base_uri": "https://localhost:8080/",
     "height": 204
    },
    "id": "gUqdvt2puZ4G",
    "outputId": "7869f374-c247-4c5e-c8a3-f21a0bf7afc8"
   },
   "outputs": [
    {
     "data": {
      "text/html": [
       "<div>\n",
       "<style scoped>\n",
       "    .dataframe tbody tr th:only-of-type {\n",
       "        vertical-align: middle;\n",
       "    }\n",
       "\n",
       "    .dataframe tbody tr th {\n",
       "        vertical-align: top;\n",
       "    }\n",
       "\n",
       "    .dataframe thead th {\n",
       "        text-align: right;\n",
       "    }\n",
       "</style>\n",
       "<table border=\"1\" class=\"dataframe\">\n",
       "  <thead>\n",
       "    <tr style=\"text-align: right;\">\n",
       "      <th></th>\n",
       "      <th>artistID</th>\n",
       "      <th>name</th>\n",
       "      <th>tagID</th>\n",
       "    </tr>\n",
       "  </thead>\n",
       "  <tbody>\n",
       "    <tr>\n",
       "      <th>0</th>\n",
       "      <td>1</td>\n",
       "      <td>MALICE MIZER</td>\n",
       "      <td>552</td>\n",
       "    </tr>\n",
       "    <tr>\n",
       "      <th>1</th>\n",
       "      <td>1</td>\n",
       "      <td>MALICE MIZER</td>\n",
       "      <td>1219</td>\n",
       "    </tr>\n",
       "    <tr>\n",
       "      <th>2</th>\n",
       "      <td>1</td>\n",
       "      <td>MALICE MIZER</td>\n",
       "      <td>139</td>\n",
       "    </tr>\n",
       "    <tr>\n",
       "      <th>3</th>\n",
       "      <td>1</td>\n",
       "      <td>MALICE MIZER</td>\n",
       "      <td>141</td>\n",
       "    </tr>\n",
       "    <tr>\n",
       "      <th>4</th>\n",
       "      <td>1</td>\n",
       "      <td>MALICE MIZER</td>\n",
       "      <td>2850</td>\n",
       "    </tr>\n",
       "  </tbody>\n",
       "</table>\n",
       "</div>"
      ],
      "text/plain": [
       "   artistID          name  tagID\n",
       "0         1  MALICE MIZER    552\n",
       "1         1  MALICE MIZER   1219\n",
       "2         1  MALICE MIZER    139\n",
       "3         1  MALICE MIZER    141\n",
       "4         1  MALICE MIZER   2850"
      ]
     },
     "execution_count": 71,
     "metadata": {},
     "output_type": "execute_result"
    }
   ],
   "source": [
    "artistsm = artists.merge(ut , on ='artistID')\n",
    "artistsm.head()"
   ]
  },
  {
   "cell_type": "code",
   "execution_count": 72,
   "metadata": {
    "colab": {
     "base_uri": "https://localhost:8080/",
     "height": 204
    },
    "id": "q5wkWjMDubmW",
    "outputId": "ee53207b-a5a4-461f-b1b0-a1793357be03"
   },
   "outputs": [
    {
     "data": {
      "text/html": [
       "<div>\n",
       "<style scoped>\n",
       "    .dataframe tbody tr th:only-of-type {\n",
       "        vertical-align: middle;\n",
       "    }\n",
       "\n",
       "    .dataframe tbody tr th {\n",
       "        vertical-align: top;\n",
       "    }\n",
       "\n",
       "    .dataframe thead th {\n",
       "        text-align: right;\n",
       "    }\n",
       "</style>\n",
       "<table border=\"1\" class=\"dataframe\">\n",
       "  <thead>\n",
       "    <tr style=\"text-align: right;\">\n",
       "      <th></th>\n",
       "      <th>artistID</th>\n",
       "      <th>name</th>\n",
       "      <th>tagIDleft</th>\n",
       "      <th>tagID</th>\n",
       "      <th>tagValue</th>\n",
       "    </tr>\n",
       "  </thead>\n",
       "  <tbody>\n",
       "    <tr>\n",
       "      <th>0</th>\n",
       "      <td>1</td>\n",
       "      <td>MALICE MIZER</td>\n",
       "      <td>552</td>\n",
       "      <td>559.0</td>\n",
       "      <td>pretentious crap</td>\n",
       "    </tr>\n",
       "    <tr>\n",
       "      <th>1</th>\n",
       "      <td>1</td>\n",
       "      <td>MALICE MIZER</td>\n",
       "      <td>1219</td>\n",
       "      <td>1233.0</td>\n",
       "      <td>the weakerthans</td>\n",
       "    </tr>\n",
       "    <tr>\n",
       "      <th>2</th>\n",
       "      <td>1</td>\n",
       "      <td>MALICE MIZER</td>\n",
       "      <td>139</td>\n",
       "      <td>140.0</td>\n",
       "      <td>j-pop</td>\n",
       "    </tr>\n",
       "    <tr>\n",
       "      <th>3</th>\n",
       "      <td>1</td>\n",
       "      <td>MALICE MIZER</td>\n",
       "      <td>141</td>\n",
       "      <td>142.0</td>\n",
       "      <td>electronic - trance - psytrance</td>\n",
       "    </tr>\n",
       "    <tr>\n",
       "      <th>4</th>\n",
       "      <td>1</td>\n",
       "      <td>MALICE MIZER</td>\n",
       "      <td>2850</td>\n",
       "      <td>2900.0</td>\n",
       "      <td>leather</td>\n",
       "    </tr>\n",
       "  </tbody>\n",
       "</table>\n",
       "</div>"
      ],
      "text/plain": [
       "   artistID          name  tagIDleft   tagID                         tagValue\n",
       "0         1  MALICE MIZER        552   559.0                 pretentious crap\n",
       "1         1  MALICE MIZER       1219  1233.0                  the weakerthans\n",
       "2         1  MALICE MIZER        139   140.0                            j-pop\n",
       "3         1  MALICE MIZER        141   142.0  electronic - trance - psytrance\n",
       "4         1  MALICE MIZER       2850  2900.0                          leather"
      ]
     },
     "execution_count": 72,
     "metadata": {},
     "output_type": "execute_result"
    }
   ],
   "source": [
    "joined = artistsm.join(tags , on='tagID', lsuffix = 'left')\n",
    "joined.head()"
   ]
  },
  {
   "cell_type": "code",
   "execution_count": 73,
   "metadata": {
    "colab": {
     "base_uri": "https://localhost:8080/",
     "height": 204
    },
    "id": "J0S-kn8UudL1",
    "outputId": "0cc94bbe-8c10-4232-f6e7-01fe08973e1a"
   },
   "outputs": [
    {
     "data": {
      "text/html": [
       "<div>\n",
       "<style scoped>\n",
       "    .dataframe tbody tr th:only-of-type {\n",
       "        vertical-align: middle;\n",
       "    }\n",
       "\n",
       "    .dataframe tbody tr th {\n",
       "        vertical-align: top;\n",
       "    }\n",
       "\n",
       "    .dataframe thead th {\n",
       "        text-align: right;\n",
       "    }\n",
       "</style>\n",
       "<table border=\"1\" class=\"dataframe\">\n",
       "  <thead>\n",
       "    <tr style=\"text-align: right;\">\n",
       "      <th></th>\n",
       "      <th>artistID</th>\n",
       "      <th>name</th>\n",
       "      <th>tagValue</th>\n",
       "    </tr>\n",
       "  </thead>\n",
       "  <tbody>\n",
       "    <tr>\n",
       "      <th>0</th>\n",
       "      <td>1</td>\n",
       "      <td>MALICE MIZER</td>\n",
       "      <td>pretentious crap</td>\n",
       "    </tr>\n",
       "    <tr>\n",
       "      <th>1</th>\n",
       "      <td>1</td>\n",
       "      <td>MALICE MIZER</td>\n",
       "      <td>the weakerthans</td>\n",
       "    </tr>\n",
       "    <tr>\n",
       "      <th>2</th>\n",
       "      <td>1</td>\n",
       "      <td>MALICE MIZER</td>\n",
       "      <td>j-pop</td>\n",
       "    </tr>\n",
       "    <tr>\n",
       "      <th>3</th>\n",
       "      <td>1</td>\n",
       "      <td>MALICE MIZER</td>\n",
       "      <td>electronic - trance - psytrance</td>\n",
       "    </tr>\n",
       "    <tr>\n",
       "      <th>4</th>\n",
       "      <td>1</td>\n",
       "      <td>MALICE MIZER</td>\n",
       "      <td>leather</td>\n",
       "    </tr>\n",
       "  </tbody>\n",
       "</table>\n",
       "</div>"
      ],
      "text/plain": [
       "   artistID          name                         tagValue\n",
       "0         1  MALICE MIZER                 pretentious crap\n",
       "1         1  MALICE MIZER                  the weakerthans\n",
       "2         1  MALICE MIZER                            j-pop\n",
       "3         1  MALICE MIZER  electronic - trance - psytrance\n",
       "4         1  MALICE MIZER                          leather"
      ]
     },
     "execution_count": 73,
     "metadata": {},
     "output_type": "execute_result"
    }
   ],
   "source": [
    "joinednew = joined.drop('tagID' , axis =1)\n",
    "joinednew = joinednew.rename(columns = {'tagIDleft':'tagID'})\n",
    "joinednew['tagValue'] = joinednew['tagValue'].astype(str)\n",
    "joinednew =  joinednew.drop('tagID',axis = 1)\n",
    "joinednew.head()"
   ]
  },
  {
   "cell_type": "code",
   "execution_count": 74,
   "metadata": {
    "colab": {
     "base_uri": "https://localhost:8080/"
    },
    "id": "iVOvu6KsuetY",
    "outputId": "3805b991-f2bd-4a9d-de1b-a43eec98ea6f"
   },
   "outputs": [
    {
     "data": {
      "text/plain": [
       "12133"
      ]
     },
     "execution_count": 74,
     "metadata": {},
     "output_type": "execute_result"
    }
   ],
   "source": [
    "joinednew['name'].nunique()"
   ]
  },
  {
   "cell_type": "code",
   "execution_count": 75,
   "metadata": {
    "colab": {
     "base_uri": "https://localhost:8080/",
     "height": 204
    },
    "id": "OFFVesEkugcP",
    "outputId": "4746c58a-c333-490b-e763-f4420aa3df24"
   },
   "outputs": [
    {
     "data": {
      "text/html": [
       "<div>\n",
       "<style scoped>\n",
       "    .dataframe tbody tr th:only-of-type {\n",
       "        vertical-align: middle;\n",
       "    }\n",
       "\n",
       "    .dataframe tbody tr th {\n",
       "        vertical-align: top;\n",
       "    }\n",
       "\n",
       "    .dataframe thead th {\n",
       "        text-align: right;\n",
       "    }\n",
       "</style>\n",
       "<table border=\"1\" class=\"dataframe\">\n",
       "  <thead>\n",
       "    <tr style=\"text-align: right;\">\n",
       "      <th></th>\n",
       "      <th>artistID</th>\n",
       "      <th>name</th>\n",
       "      <th>tagValue</th>\n",
       "    </tr>\n",
       "  </thead>\n",
       "  <tbody>\n",
       "    <tr>\n",
       "      <th>0</th>\n",
       "      <td>1</td>\n",
       "      <td>MALICE MIZER</td>\n",
       "      <td>pretentious crap the weakerthans j-pop electro...</td>\n",
       "    </tr>\n",
       "    <tr>\n",
       "      <th>1</th>\n",
       "      <td>1</td>\n",
       "      <td>MALICE MIZER</td>\n",
       "      <td>pretentious crap the weakerthans j-pop electro...</td>\n",
       "    </tr>\n",
       "    <tr>\n",
       "      <th>2</th>\n",
       "      <td>1</td>\n",
       "      <td>MALICE MIZER</td>\n",
       "      <td>pretentious crap the weakerthans j-pop electro...</td>\n",
       "    </tr>\n",
       "    <tr>\n",
       "      <th>3</th>\n",
       "      <td>1</td>\n",
       "      <td>MALICE MIZER</td>\n",
       "      <td>pretentious crap the weakerthans j-pop electro...</td>\n",
       "    </tr>\n",
       "    <tr>\n",
       "      <th>4</th>\n",
       "      <td>1</td>\n",
       "      <td>MALICE MIZER</td>\n",
       "      <td>pretentious crap the weakerthans j-pop electro...</td>\n",
       "    </tr>\n",
       "  </tbody>\n",
       "</table>\n",
       "</div>"
      ],
      "text/plain": [
       "   artistID          name                                           tagValue\n",
       "0         1  MALICE MIZER  pretentious crap the weakerthans j-pop electro...\n",
       "1         1  MALICE MIZER  pretentious crap the weakerthans j-pop electro...\n",
       "2         1  MALICE MIZER  pretentious crap the weakerthans j-pop electro...\n",
       "3         1  MALICE MIZER  pretentious crap the weakerthans j-pop electro...\n",
       "4         1  MALICE MIZER  pretentious crap the weakerthans j-pop electro..."
      ]
     },
     "execution_count": 75,
     "metadata": {},
     "output_type": "execute_result"
    }
   ],
   "source": [
    "joinednew['tagValue'] = joinednew[['artistID','name','tagValue']].groupby(['artistID','name'])['tagValue'].transform(lambda x : ' '.join(x))\n",
    "joinednew[['artistID','name','tagValue']].drop_duplicates()\n",
    "joinednew.head()"
   ]
  },
  {
   "cell_type": "code",
   "execution_count": 76,
   "metadata": {
    "colab": {
     "base_uri": "https://localhost:8080/"
    },
    "id": "D-q-qW_7ukCy",
    "outputId": "b7c965ac-42af-417c-d0b0-61066f73276c"
   },
   "outputs": [
    {
     "data": {
      "text/plain": [
       "(12133, 3)"
      ]
     },
     "execution_count": 76,
     "metadata": {},
     "output_type": "execute_result"
    }
   ],
   "source": [
    "joinednewk = joinednew.drop_duplicates()\n",
    "joinednewk = joinednewk.reset_index(drop = True)\n",
    "joinednewk.shape"
   ]
  },
  {
   "cell_type": "code",
   "execution_count": 77,
   "metadata": {
    "colab": {
     "base_uri": "https://localhost:8080/",
     "height": 359
    },
    "id": "Qt5aKwkhunMG",
    "outputId": "3515c5bc-ccac-4824-943e-54c36f6b3372"
   },
   "outputs": [
    {
     "data": {
      "text/html": [
       "<div>\n",
       "<style scoped>\n",
       "    .dataframe tbody tr th:only-of-type {\n",
       "        vertical-align: middle;\n",
       "    }\n",
       "\n",
       "    .dataframe tbody tr th {\n",
       "        vertical-align: top;\n",
       "    }\n",
       "\n",
       "    .dataframe thead th {\n",
       "        text-align: right;\n",
       "    }\n",
       "</style>\n",
       "<table border=\"1\" class=\"dataframe\">\n",
       "  <thead>\n",
       "    <tr style=\"text-align: right;\">\n",
       "      <th></th>\n",
       "      <th>artistID</th>\n",
       "      <th>name</th>\n",
       "      <th>tagValue</th>\n",
       "    </tr>\n",
       "  </thead>\n",
       "  <tbody>\n",
       "    <tr>\n",
       "      <th>0</th>\n",
       "      <td>1</td>\n",
       "      <td>MALICE MIZER</td>\n",
       "      <td>pretentious crap the weakerthans j-pop electro...</td>\n",
       "    </tr>\n",
       "    <tr>\n",
       "      <th>1</th>\n",
       "      <td>2</td>\n",
       "      <td>Diary of Dreams</td>\n",
       "      <td>hi-nrg hit goff trip hop hi-nrg hi-nrg post-ha...</td>\n",
       "    </tr>\n",
       "    <tr>\n",
       "      <th>2</th>\n",
       "      <td>3</td>\n",
       "      <td>Carpathian Forest</td>\n",
       "      <td>death metal death metal show some love pissed ...</td>\n",
       "    </tr>\n",
       "    <tr>\n",
       "      <th>3</th>\n",
       "      <td>4</td>\n",
       "      <td>Moi dix Mois</td>\n",
       "      <td>j-pop electronic - trance - psytrance alternat...</td>\n",
       "    </tr>\n",
       "    <tr>\n",
       "      <th>4</th>\n",
       "      <td>5</td>\n",
       "      <td>Bella Morte</td>\n",
       "      <td>post-hardcore instrumental goff goff groove me...</td>\n",
       "    </tr>\n",
       "    <tr>\n",
       "      <th>5</th>\n",
       "      <td>6</td>\n",
       "      <td>Moonspell</td>\n",
       "      <td>death metal terror ebm jazz abre caminhos terr...</td>\n",
       "    </tr>\n",
       "    <tr>\n",
       "      <th>6</th>\n",
       "      <td>7</td>\n",
       "      <td>Marilyn Manson</td>\n",
       "      <td>futuremelon hit gothic rock speed metal classi...</td>\n",
       "    </tr>\n",
       "    <tr>\n",
       "      <th>7</th>\n",
       "      <td>8</td>\n",
       "      <td>DIR EN GREY</td>\n",
       "      <td>synthpop j-rock j-pop electronic - trance - ps...</td>\n",
       "    </tr>\n",
       "    <tr>\n",
       "      <th>8</th>\n",
       "      <td>9</td>\n",
       "      <td>Combichrist</td>\n",
       "      <td>trip hop germany techno industrial techno ambi...</td>\n",
       "    </tr>\n",
       "    <tr>\n",
       "      <th>9</th>\n",
       "      <td>10</td>\n",
       "      <td>Grendel</td>\n",
       "      <td>techno trip hop helltrance belgian 80's post-r...</td>\n",
       "    </tr>\n",
       "  </tbody>\n",
       "</table>\n",
       "</div>"
      ],
      "text/plain": [
       "   artistID               name  \\\n",
       "0         1       MALICE MIZER   \n",
       "1         2    Diary of Dreams   \n",
       "2         3  Carpathian Forest   \n",
       "3         4       Moi dix Mois   \n",
       "4         5        Bella Morte   \n",
       "5         6          Moonspell   \n",
       "6         7     Marilyn Manson   \n",
       "7         8        DIR EN GREY   \n",
       "8         9        Combichrist   \n",
       "9        10            Grendel   \n",
       "\n",
       "                                            tagValue  \n",
       "0  pretentious crap the weakerthans j-pop electro...  \n",
       "1  hi-nrg hit goff trip hop hi-nrg hi-nrg post-ha...  \n",
       "2  death metal death metal show some love pissed ...  \n",
       "3  j-pop electronic - trance - psytrance alternat...  \n",
       "4  post-hardcore instrumental goff goff groove me...  \n",
       "5  death metal terror ebm jazz abre caminhos terr...  \n",
       "6  futuremelon hit gothic rock speed metal classi...  \n",
       "7  synthpop j-rock j-pop electronic - trance - ps...  \n",
       "8  trip hop germany techno industrial techno ambi...  \n",
       "9  techno trip hop helltrance belgian 80's post-r...  "
      ]
     },
     "execution_count": 77,
     "metadata": {},
     "output_type": "execute_result"
    }
   ],
   "source": [
    "joinednewk.head(10)"
   ]
  },
  {
   "cell_type": "code",
   "execution_count": 78,
   "metadata": {
    "colab": {
     "base_uri": "https://localhost:8080/"
    },
    "id": "F0RZ3scdupBm",
    "outputId": "e4308efe-d6da-47b8-a494-04f9411ece81"
   },
   "outputs": [
    {
     "data": {
      "text/plain": [
       "(12133, 56827)"
      ]
     },
     "execution_count": 78,
     "metadata": {},
     "output_type": "execute_result"
    }
   ],
   "source": [
    "from sklearn.feature_extraction.text import TfidfVectorizer\n",
    "tfv = TfidfVectorizer(stop_words='english',ngram_range = (1,2))\n",
    "tf_matrix = tfv.fit_transform(joinednewk['tagValue'])\n",
    "tf_matrix.shape"
   ]
  },
  {
   "cell_type": "code",
   "execution_count": 79,
   "metadata": {
    "colab": {
     "base_uri": "https://localhost:8080/"
    },
    "id": "-zofBbqhuq1W",
    "outputId": "11aa2440-b142-49ec-a2c4-3fddd7a3da76"
   },
   "outputs": [
    {
     "data": {
      "text/plain": [
       "(12133, 12133)"
      ]
     },
     "execution_count": 79,
     "metadata": {},
     "output_type": "execute_result"
    }
   ],
   "source": [
    "similar = linear_kernel(tf_matrix, tf_matrix)\n",
    "similar.shape"
   ]
  },
  {
   "cell_type": "code",
   "execution_count": 80,
   "metadata": {
    "colab": {
     "base_uri": "https://localhost:8080/",
     "height": 454
    },
    "id": "pQLcMOvAuq6n",
    "outputId": "3dfb1455-5775-455a-963c-8fb0a6bf1070"
   },
   "outputs": [
    {
     "data": {
      "text/html": [
       "<div>\n",
       "<style scoped>\n",
       "    .dataframe tbody tr th:only-of-type {\n",
       "        vertical-align: middle;\n",
       "    }\n",
       "\n",
       "    .dataframe tbody tr th {\n",
       "        vertical-align: top;\n",
       "    }\n",
       "\n",
       "    .dataframe thead th {\n",
       "        text-align: right;\n",
       "    }\n",
       "</style>\n",
       "<table border=\"1\" class=\"dataframe\">\n",
       "  <thead>\n",
       "    <tr style=\"text-align: right;\">\n",
       "      <th>name</th>\n",
       "      <th>MALICE MIZER</th>\n",
       "      <th>Diary of Dreams</th>\n",
       "      <th>Carpathian Forest</th>\n",
       "      <th>Moi dix Mois</th>\n",
       "      <th>Bella Morte</th>\n",
       "      <th>Moonspell</th>\n",
       "      <th>Marilyn Manson</th>\n",
       "      <th>DIR EN GREY</th>\n",
       "      <th>Combichrist</th>\n",
       "      <th>Grendel</th>\n",
       "      <th>...</th>\n",
       "      <th>Nostalgia 77</th>\n",
       "      <th>The Young Gods</th>\n",
       "      <th>Wiseblood</th>\n",
       "      <th>LOSTFREEQ</th>\n",
       "      <th>Ciccone Youth</th>\n",
       "      <th>Apollo 440</th>\n",
       "      <th>Die Krupps</th>\n",
       "      <th>Diamanda Galás</th>\n",
       "      <th>Oz Alchemist</th>\n",
       "      <th>title</th>\n",
       "    </tr>\n",
       "    <tr>\n",
       "      <th>artistID</th>\n",
       "      <th></th>\n",
       "      <th></th>\n",
       "      <th></th>\n",
       "      <th></th>\n",
       "      <th></th>\n",
       "      <th></th>\n",
       "      <th></th>\n",
       "      <th></th>\n",
       "      <th></th>\n",
       "      <th></th>\n",
       "      <th></th>\n",
       "      <th></th>\n",
       "      <th></th>\n",
       "      <th></th>\n",
       "      <th></th>\n",
       "      <th></th>\n",
       "      <th></th>\n",
       "      <th></th>\n",
       "      <th></th>\n",
       "      <th></th>\n",
       "      <th></th>\n",
       "    </tr>\n",
       "  </thead>\n",
       "  <tbody>\n",
       "    <tr>\n",
       "      <th>1</th>\n",
       "      <td>1.000000</td>\n",
       "      <td>0.108148</td>\n",
       "      <td>0.000000</td>\n",
       "      <td>0.761248</td>\n",
       "      <td>0.063682</td>\n",
       "      <td>0.022610</td>\n",
       "      <td>0.012206</td>\n",
       "      <td>0.654194</td>\n",
       "      <td>0.037943</td>\n",
       "      <td>0.060287</td>\n",
       "      <td>...</td>\n",
       "      <td>0.000000</td>\n",
       "      <td>0.000000</td>\n",
       "      <td>0.000000</td>\n",
       "      <td>0.006398</td>\n",
       "      <td>0.000000</td>\n",
       "      <td>0.000000</td>\n",
       "      <td>0.049639</td>\n",
       "      <td>0.0</td>\n",
       "      <td>0.000000</td>\n",
       "      <td>MALICE MIZER</td>\n",
       "    </tr>\n",
       "    <tr>\n",
       "      <th>2</th>\n",
       "      <td>0.108148</td>\n",
       "      <td>1.000000</td>\n",
       "      <td>0.000000</td>\n",
       "      <td>0.145156</td>\n",
       "      <td>0.466097</td>\n",
       "      <td>0.045435</td>\n",
       "      <td>0.050166</td>\n",
       "      <td>0.003465</td>\n",
       "      <td>0.107583</td>\n",
       "      <td>0.117923</td>\n",
       "      <td>...</td>\n",
       "      <td>0.000000</td>\n",
       "      <td>0.000000</td>\n",
       "      <td>0.000000</td>\n",
       "      <td>0.018718</td>\n",
       "      <td>0.007339</td>\n",
       "      <td>0.004061</td>\n",
       "      <td>0.122324</td>\n",
       "      <td>0.0</td>\n",
       "      <td>0.003565</td>\n",
       "      <td>Diary of Dreams</td>\n",
       "    </tr>\n",
       "    <tr>\n",
       "      <th>3</th>\n",
       "      <td>0.000000</td>\n",
       "      <td>0.000000</td>\n",
       "      <td>1.000000</td>\n",
       "      <td>0.010398</td>\n",
       "      <td>0.010663</td>\n",
       "      <td>0.116767</td>\n",
       "      <td>0.054086</td>\n",
       "      <td>0.017822</td>\n",
       "      <td>0.005995</td>\n",
       "      <td>0.024078</td>\n",
       "      <td>...</td>\n",
       "      <td>0.013635</td>\n",
       "      <td>0.011725</td>\n",
       "      <td>0.018906</td>\n",
       "      <td>0.014688</td>\n",
       "      <td>0.004958</td>\n",
       "      <td>0.003633</td>\n",
       "      <td>0.007843</td>\n",
       "      <td>0.0</td>\n",
       "      <td>0.009578</td>\n",
       "      <td>Carpathian Forest</td>\n",
       "    </tr>\n",
       "    <tr>\n",
       "      <th>4</th>\n",
       "      <td>0.761248</td>\n",
       "      <td>0.145156</td>\n",
       "      <td>0.010398</td>\n",
       "      <td>1.000000</td>\n",
       "      <td>0.089801</td>\n",
       "      <td>0.140116</td>\n",
       "      <td>0.108935</td>\n",
       "      <td>0.578825</td>\n",
       "      <td>0.053647</td>\n",
       "      <td>0.082403</td>\n",
       "      <td>...</td>\n",
       "      <td>0.000000</td>\n",
       "      <td>0.000000</td>\n",
       "      <td>0.000000</td>\n",
       "      <td>0.013317</td>\n",
       "      <td>0.000000</td>\n",
       "      <td>0.016555</td>\n",
       "      <td>0.066626</td>\n",
       "      <td>0.0</td>\n",
       "      <td>0.003084</td>\n",
       "      <td>Moi dix Mois</td>\n",
       "    </tr>\n",
       "    <tr>\n",
       "      <th>5</th>\n",
       "      <td>0.063682</td>\n",
       "      <td>0.466097</td>\n",
       "      <td>0.010663</td>\n",
       "      <td>0.089801</td>\n",
       "      <td>1.000000</td>\n",
       "      <td>0.040430</td>\n",
       "      <td>0.041610</td>\n",
       "      <td>0.006964</td>\n",
       "      <td>0.034816</td>\n",
       "      <td>0.056843</td>\n",
       "      <td>...</td>\n",
       "      <td>0.000000</td>\n",
       "      <td>0.000000</td>\n",
       "      <td>0.000000</td>\n",
       "      <td>0.010721</td>\n",
       "      <td>0.000000</td>\n",
       "      <td>0.000000</td>\n",
       "      <td>0.045548</td>\n",
       "      <td>0.0</td>\n",
       "      <td>0.003163</td>\n",
       "      <td>Bella Morte</td>\n",
       "    </tr>\n",
       "  </tbody>\n",
       "</table>\n",
       "<p>5 rows × 12134 columns</p>\n",
       "</div>"
      ],
      "text/plain": [
       "name      MALICE MIZER  Diary of Dreams  Carpathian Forest  Moi dix Mois  \\\n",
       "artistID                                                                   \n",
       "1             1.000000         0.108148           0.000000      0.761248   \n",
       "2             0.108148         1.000000           0.000000      0.145156   \n",
       "3             0.000000         0.000000           1.000000      0.010398   \n",
       "4             0.761248         0.145156           0.010398      1.000000   \n",
       "5             0.063682         0.466097           0.010663      0.089801   \n",
       "\n",
       "name      Bella Morte  Moonspell  Marilyn Manson  DIR EN GREY  Combichrist  \\\n",
       "artistID                                                                     \n",
       "1            0.063682   0.022610        0.012206     0.654194     0.037943   \n",
       "2            0.466097   0.045435        0.050166     0.003465     0.107583   \n",
       "3            0.010663   0.116767        0.054086     0.017822     0.005995   \n",
       "4            0.089801   0.140116        0.108935     0.578825     0.053647   \n",
       "5            1.000000   0.040430        0.041610     0.006964     0.034816   \n",
       "\n",
       "name       Grendel  ...  Nostalgia 77  The Young Gods  Wiseblood  LOSTFREEQ  \\\n",
       "artistID            ...                                                       \n",
       "1         0.060287  ...      0.000000        0.000000   0.000000   0.006398   \n",
       "2         0.117923  ...      0.000000        0.000000   0.000000   0.018718   \n",
       "3         0.024078  ...      0.013635        0.011725   0.018906   0.014688   \n",
       "4         0.082403  ...      0.000000        0.000000   0.000000   0.013317   \n",
       "5         0.056843  ...      0.000000        0.000000   0.000000   0.010721   \n",
       "\n",
       "name      Ciccone Youth  Apollo 440  Die Krupps  Diamanda Galás  Oz Alchemist  \\\n",
       "artistID                                                                        \n",
       "1              0.000000    0.000000    0.049639             0.0      0.000000   \n",
       "2              0.007339    0.004061    0.122324             0.0      0.003565   \n",
       "3              0.004958    0.003633    0.007843             0.0      0.009578   \n",
       "4              0.000000    0.016555    0.066626             0.0      0.003084   \n",
       "5              0.000000    0.000000    0.045548             0.0      0.003163   \n",
       "\n",
       "name                  title  \n",
       "artistID                     \n",
       "1              MALICE MIZER  \n",
       "2           Diary of Dreams  \n",
       "3         Carpathian Forest  \n",
       "4              Moi dix Mois  \n",
       "5               Bella Morte  \n",
       "\n",
       "[5 rows x 12134 columns]"
      ]
     },
     "execution_count": 80,
     "metadata": {},
     "output_type": "execute_result"
    }
   ],
   "source": [
    "similar = pd.DataFrame(similar, index= joinednewk['artistID'], columns= joinednewk['name'])\n",
    "similar['title'] = similar.columns\n",
    "similar.head()"
   ]
  },
  {
   "cell_type": "code",
   "execution_count": 81,
   "metadata": {
    "colab": {
     "base_uri": "https://localhost:8080/",
     "height": 390
    },
    "id": "tBO99oPbuuv-",
    "outputId": "1de8522b-5894-4c4b-d70d-2b871da9711e"
   },
   "outputs": [
    {
     "data": {
      "text/html": [
       "<div>\n",
       "<style scoped>\n",
       "    .dataframe tbody tr th:only-of-type {\n",
       "        vertical-align: middle;\n",
       "    }\n",
       "\n",
       "    .dataframe tbody tr th {\n",
       "        vertical-align: top;\n",
       "    }\n",
       "\n",
       "    .dataframe thead th {\n",
       "        text-align: right;\n",
       "    }\n",
       "</style>\n",
       "<table border=\"1\" class=\"dataframe\">\n",
       "  <thead>\n",
       "    <tr style=\"text-align: right;\">\n",
       "      <th></th>\n",
       "      <th>genre_ranking</th>\n",
       "    </tr>\n",
       "    <tr>\n",
       "      <th>name</th>\n",
       "      <th></th>\n",
       "    </tr>\n",
       "  </thead>\n",
       "  <tbody>\n",
       "    <tr>\n",
       "      <th>Duran Duran</th>\n",
       "      <td>1.000000</td>\n",
       "    </tr>\n",
       "    <tr>\n",
       "      <th>Eurythmics</th>\n",
       "      <td>0.712136</td>\n",
       "    </tr>\n",
       "    <tr>\n",
       "      <th>a-ha</th>\n",
       "      <td>0.710714</td>\n",
       "    </tr>\n",
       "    <tr>\n",
       "      <th>Tears for Fears</th>\n",
       "      <td>0.705609</td>\n",
       "    </tr>\n",
       "    <tr>\n",
       "      <th>Soft Cell</th>\n",
       "      <td>0.704467</td>\n",
       "    </tr>\n",
       "    <tr>\n",
       "      <th>The Human League</th>\n",
       "      <td>0.690269</td>\n",
       "    </tr>\n",
       "    <tr>\n",
       "      <th>Orchestral Manoeuvres in the Dark</th>\n",
       "      <td>0.683321</td>\n",
       "    </tr>\n",
       "    <tr>\n",
       "      <th>Alphaville</th>\n",
       "      <td>0.676077</td>\n",
       "    </tr>\n",
       "    <tr>\n",
       "      <th>Simple Minds</th>\n",
       "      <td>0.669126</td>\n",
       "    </tr>\n",
       "    <tr>\n",
       "      <th>Josie Cotton</th>\n",
       "      <td>0.667441</td>\n",
       "    </tr>\n",
       "  </tbody>\n",
       "</table>\n",
       "</div>"
      ],
      "text/plain": [
       "                                   genre_ranking\n",
       "name                                            \n",
       "Duran Duran                             1.000000\n",
       "Eurythmics                              0.712136\n",
       "a-ha                                    0.710714\n",
       "Tears for Fears                         0.705609\n",
       "Soft Cell                               0.704467\n",
       "The Human League                        0.690269\n",
       "Orchestral Manoeuvres in the Dark       0.683321\n",
       "Alphaville                              0.676077\n",
       "Simple Minds                            0.669126\n",
       "Josie Cotton                            0.667441"
      ]
     },
     "execution_count": 81,
     "metadata": {},
     "output_type": "execute_result"
    }
   ],
   "source": [
    "def content_reco(y):\n",
    "    idx = similar[similar['title']==y]\n",
    "    idx = idx.drop('title', axis=1).T\n",
    "    idx.columns = ['genre_ranking']\n",
    "    idx = idx.sort_values(by='genre_ranking', ascending=False)\n",
    "    return idx\n",
    "    \n",
    "cb = content_reco('Duran Duran')\n",
    "cb.head(10)"
   ]
  },
  {
   "cell_type": "markdown",
   "metadata": {
    "id": "2lUsdtMEzdMK"
   },
   "source": [
    "\n",
    "<table align=\"left\">\n",
    "    <tr>\n",
    "        <td width=\"15%\">\n",
    "            <img src=\"smallicon.png\">\n",
    "        </td>\n",
    "        <td>\n",
    "            <div align=\"center\", style=\"font-size:190%\">\n",
    "                <font color=\"#21618C\">\n",
    "                    <b>Hybrid Recommendation System.<br></b>\n",
    "                </font>\n",
    "            </div>\n",
    "        </td>\n",
    "    </tr>\n",
    "</table><a id='hyb'></a>"
   ]
  },
  {
   "cell_type": "markdown",
   "metadata": {
    "id": "r5bQEs6RP-84"
   },
   "source": [
    "\n",
    "\n",
    "<table align=\"left\">\n",
    "    <tr>\n",
    "       <td>\n",
    "            <div align=\"center\", style=\"font-size:150%\">\n",
    "                <font color=\"#21618C\">\n",
    "                    <b>Focus-Based Hybrid Recommendation system<br></b>\n",
    "                </font>\n",
    "            </div>\n",
    "        </td>\n",
    "    </tr>\n",
    "</table><a id='fo'></a>\n",
    "\n",
    "---\n",
    "### $  f(x,y) = \\alpha x_{content} +  \\beta y_{collabrative} $\n",
    "\n",
    "$x_{content}$ is the Content Based Recommendation System Feature.\n",
    "\n",
    "$y_{collabrative}$ is the User-User Based Collabrative Recommendation System Feature.\n",
    "\n",
    "\n",
    "$\\alpha$ and $\\beta$ are constants.\n"
   ]
  },
  {
   "cell_type": "code",
   "execution_count": 82,
   "metadata": {},
   "outputs": [
    {
     "data": {
      "text/html": [
       "<div>\n",
       "<style scoped>\n",
       "    .dataframe tbody tr th:only-of-type {\n",
       "        vertical-align: middle;\n",
       "    }\n",
       "\n",
       "    .dataframe tbody tr th {\n",
       "        vertical-align: top;\n",
       "    }\n",
       "\n",
       "    .dataframe thead th {\n",
       "        text-align: right;\n",
       "    }\n",
       "</style>\n",
       "<table border=\"1\" class=\"dataframe\">\n",
       "  <thead>\n",
       "    <tr style=\"text-align: right;\">\n",
       "      <th></th>\n",
       "      <th>name</th>\n",
       "      <th>Ranking</th>\n",
       "    </tr>\n",
       "  </thead>\n",
       "  <tbody>\n",
       "    <tr>\n",
       "      <th>0</th>\n",
       "      <td>Duran Duran</td>\n",
       "      <td>0.64</td>\n",
       "    </tr>\n",
       "    <tr>\n",
       "      <th>1</th>\n",
       "      <td>Viking Quest</td>\n",
       "      <td>0.60</td>\n",
       "    </tr>\n",
       "    <tr>\n",
       "      <th>2</th>\n",
       "      <td>Thalía</td>\n",
       "      <td>0.44</td>\n",
       "    </tr>\n",
       "    <tr>\n",
       "      <th>3</th>\n",
       "      <td>a-ha</td>\n",
       "      <td>0.41</td>\n",
       "    </tr>\n",
       "    <tr>\n",
       "      <th>4</th>\n",
       "      <td>Tears for Fears</td>\n",
       "      <td>0.40</td>\n",
       "    </tr>\n",
       "    <tr>\n",
       "      <th>5</th>\n",
       "      <td>Soft Cell</td>\n",
       "      <td>0.40</td>\n",
       "    </tr>\n",
       "    <tr>\n",
       "      <th>6</th>\n",
       "      <td>Eurythmics</td>\n",
       "      <td>0.39</td>\n",
       "    </tr>\n",
       "    <tr>\n",
       "      <th>7</th>\n",
       "      <td>The Human League</td>\n",
       "      <td>0.39</td>\n",
       "    </tr>\n",
       "    <tr>\n",
       "      <th>8</th>\n",
       "      <td>Orchestral Manoeuvres in the Dark</td>\n",
       "      <td>0.38</td>\n",
       "    </tr>\n",
       "    <tr>\n",
       "      <th>9</th>\n",
       "      <td>Depeche Mode</td>\n",
       "      <td>0.38</td>\n",
       "    </tr>\n",
       "    <tr>\n",
       "      <th>10</th>\n",
       "      <td>Alphaville</td>\n",
       "      <td>0.38</td>\n",
       "    </tr>\n",
       "    <tr>\n",
       "      <th>11</th>\n",
       "      <td>Simple Minds</td>\n",
       "      <td>0.38</td>\n",
       "    </tr>\n",
       "    <tr>\n",
       "      <th>12</th>\n",
       "      <td>Berlin</td>\n",
       "      <td>0.37</td>\n",
       "    </tr>\n",
       "    <tr>\n",
       "      <th>13</th>\n",
       "      <td>Naked Eyes</td>\n",
       "      <td>0.37</td>\n",
       "    </tr>\n",
       "    <tr>\n",
       "      <th>14</th>\n",
       "      <td>Arcadia</td>\n",
       "      <td>0.37</td>\n",
       "    </tr>\n",
       "    <tr>\n",
       "      <th>15</th>\n",
       "      <td>Culture Club</td>\n",
       "      <td>0.37</td>\n",
       "    </tr>\n",
       "    <tr>\n",
       "      <th>16</th>\n",
       "      <td>Ultravox</td>\n",
       "      <td>0.37</td>\n",
       "    </tr>\n",
       "    <tr>\n",
       "      <th>17</th>\n",
       "      <td>A Flock of Seagulls</td>\n",
       "      <td>0.36</td>\n",
       "    </tr>\n",
       "    <tr>\n",
       "      <th>18</th>\n",
       "      <td>Visage</td>\n",
       "      <td>0.36</td>\n",
       "    </tr>\n",
       "    <tr>\n",
       "      <th>19</th>\n",
       "      <td>New Order</td>\n",
       "      <td>0.36</td>\n",
       "    </tr>\n",
       "  </tbody>\n",
       "</table>\n",
       "</div>"
      ],
      "text/plain": [
       "                                 name  Ranking\n",
       "0                         Duran Duran     0.64\n",
       "1                        Viking Quest     0.60\n",
       "2                              Thalía     0.44\n",
       "3                                a-ha     0.41\n",
       "4                     Tears for Fears     0.40\n",
       "5                           Soft Cell     0.40\n",
       "6                          Eurythmics     0.39\n",
       "7                    The Human League     0.39\n",
       "8   Orchestral Manoeuvres in the Dark     0.38\n",
       "9                        Depeche Mode     0.38\n",
       "10                         Alphaville     0.38\n",
       "11                       Simple Minds     0.38\n",
       "12                             Berlin     0.37\n",
       "13                         Naked Eyes     0.37\n",
       "14                            Arcadia     0.37\n",
       "15                       Culture Club     0.37\n",
       "16                           Ultravox     0.37\n",
       "17                A Flock of Seagulls     0.36\n",
       "18                             Visage     0.36\n",
       "19                          New Order     0.36"
      ]
     },
     "execution_count": 82,
     "metadata": {},
     "output_type": "execute_result"
    }
   ],
   "source": [
    "def focus_reco(userid, artistname, weight, alpha, beta):\n",
    "  \n",
    "  ucff = coluser_reco(userid,weight)\n",
    "  cbf = content_reco(artistname)\n",
    "  a= pd.DataFrame(artists['name'])\n",
    "  res = a.merge(ucff , left_on = 'name' , right_on = 'iid' , how = 'outer')\n",
    "  resf = res[['name','est']]\n",
    "  cbucf = resf.merge(cbf, on='name' ,how = 'outer').fillna(0)\n",
    "  param = cbucf[['est','genre_ranking']]\n",
    "  scaler = MinMaxScaler()\n",
    "  param_scaled = scaler.fit_transform(param)\n",
    "  param_scaled = pd.DataFrame(param_scaled) \n",
    "  ranking = round(( alpha * param_scaled[0] + beta * param_scaled[1]),2)\n",
    "  cbucff = cbucf.drop(['genre_ranking' , 'est'],axis =1 )\n",
    "  cbucff['Ranking'] = ranking\n",
    "  cbucffs =cbucff.sort_values( by = 'Ranking', ascending = False).drop_duplicates().reset_index(drop = True)\n",
    "  return cbucffs\n",
    "\n",
    "\n",
    "result = focus_reco(2,'Duran Duran',11690,0.5,0.5)\n",
    "result.head(20)"
   ]
  },
  {
   "cell_type": "markdown",
   "metadata": {
    "id": "gWaOJ-rqbYR7"
   },
   "source": [
    "<table align=\"center\" width=100%>\n",
    "    <tr>\n",
    "        <td width=\"25%\">\n",
    "            <img src=\"play-it-again.png\">\n",
    "        </td>\n",
    "        <td>\n",
    "            <div align=\"center\">\n",
    "                <font color=\"#21618C\" size=6px>\n",
    "                  <b> Thank you <br> Have a Great day ahead</b>\n",
    "                </font>\n",
    "            </div>\n",
    "        </td>\n",
    "    </tr>\n",
    "</table>"
   ]
  }
 ],
 "metadata": {
  "colab": {
   "collapsed_sections": [],
   "name": "Recommender_System.ipynb",
   "provenance": []
  },
  "kernelspec": {
   "display_name": "Python 3",
   "language": "python",
   "name": "python3"
  },
  "language_info": {
   "codemirror_mode": {
    "name": "ipython",
    "version": 3
   },
   "file_extension": ".py",
   "mimetype": "text/x-python",
   "name": "python",
   "nbconvert_exporter": "python",
   "pygments_lexer": "ipython3",
   "version": "3.8.3"
  }
 },
 "nbformat": 4,
 "nbformat_minor": 1
}
